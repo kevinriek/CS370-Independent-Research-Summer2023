{
 "cells": [
  {
   "cell_type": "code",
   "execution_count": 1,
   "id": "ad633466",
   "metadata": {},
   "outputs": [],
   "source": [
    "import numpy as np\n",
    "import math \n",
    "import queue\n",
    "import os\n",
    "import neat\n",
    "import visualize\n",
    "import random\n",
    "import matplotlib.pyplot as plt\n",
    "import pickle\n",
    "\n",
    "import GameManager\n",
    "from GameManager import map_manager, Tile, Unit, Team\n",
    "\n",
    "import Neat_AI\n",
    "from Neat_AI import eval_genomes, run\n",
    "\n",
    "import AI_modules\n",
    "from AI_modules import no_ai, rand_ai, script_ai, neat_ai, script_performance"
   ]
  },
  {
   "cell_type": "code",
   "execution_count": 2,
   "id": "aa70ca01",
   "metadata": {},
   "outputs": [],
   "source": [
    "local_dir = os.path.abspath('')\n",
    "config_path = os.path.join(local_dir, 'config-feedforward')"
   ]
  },
  {
   "cell_type": "code",
   "execution_count": 4,
   "id": "e724594e",
   "metadata": {},
   "outputs": [],
   "source": [
    "dimensions = (8,8)\n",
    "manager = map_manager(dimensions)\n",
    "#print(manager)\n",
    "\n",
    "manager.setup_layouts_rand(layout_n=10, unit_count=5)\n",
    "for i in range(len(manager.map_layouts)):\n",
    "    manager.apply_map_layout(i)\n",
    "    #print(manager)\n",
    "    "
   ]
  },
  {
   "cell_type": "code",
   "execution_count": null,
   "id": "f792c0cc",
   "metadata": {},
   "outputs": [],
   "source": [
    "dimensions = (8,8)\n",
    "units_per_side = 5\n",
    "manager = map_manager(dimensions)\n",
    "\n",
    "# for i in range(games_run):\n",
    "#also resets map\n",
    "manager.setup_rand(units_per_side)\n",
    "print(manager)\n",
    "\n",
    "while (manager.game_joever() == -1 and manager.turn_count < 8): #Turn Count limit may have to be modified\n",
    "    for unit in manager.Teams[manager.curr_team].live_units:\n",
    "        win_move = (0, 0)\n",
    "        if manager.curr_team == 0:\n",
    "            win_move = neat_ai(manager, unit, win_net)\n",
    "        elif manager.curr_team == 1:\n",
    "            win_move = script_ai(manager, unit)\\\n",
    "            #win_move = neat_ai(manager, unit, win_net)\n",
    "        manager.move_unit(unit, win_move)\n",
    "        print(manager)\n",
    "    manager.Turn()"
   ]
  },
  {
   "cell_type": "code",
   "execution_count": 29,
   "id": "54712e7c",
   "metadata": {},
   "outputs": [],
   "source": [
    "dimensions = (8,8)\n",
    "units_per_side = 5\n",
    "manager = map_manager(dimensions)\n",
    "\n",
    "# for i in range(games_run):\n",
    "config = neat.Config(neat.DefaultGenome, neat.DefaultReproduction,\n",
    "                     neat.DefaultSpeciesSet, neat.DefaultStagnation,\n",
    "                     config_path)\n",
    "script_performance(manager, win_net, config)"
   ]
  },
  {
   "cell_type": "code",
   "execution_count": 3,
   "id": "bc9783e0",
   "metadata": {},
   "outputs": [],
   "source": [
    "from importlib import reload\n",
    "reload(GameManager)\n",
    "reload(AI_modules)\n",
    "reload(Neat_AI)\n",
    "\n",
    "\n",
    "from GameManager import map_manager, Tile, Unit, Team\n",
    "from Neat_AI import eval_genomes, run, load_net\n",
    "from AI_modules import no_ai, rand_ai, script_ai, neat_ai"
   ]
  },
  {
   "cell_type": "code",
   "execution_count": 4,
   "id": "2c7dfc4e",
   "metadata": {},
   "outputs": [
    {
     "name": "stdout",
     "output_type": "stream",
     "text": [
      "\n",
      " ****** Running generation 0 ****** \n",
      "\n"
     ]
    },
    {
     "ename": "NameError",
     "evalue": "name 'manager' is not defined",
     "output_type": "error",
     "traceback": [
      "\u001b[1;31m---------------------------------------------------------------------------\u001b[0m",
      "\u001b[1;31mNameError\u001b[0m                                 Traceback (most recent call last)",
      "Cell \u001b[1;32mIn[4], line 2\u001b[0m\n\u001b[0;32m      1\u001b[0m random\u001b[38;5;241m.\u001b[39mseed(\u001b[38;5;241m4123\u001b[39m) \u001b[38;5;66;03m#This is to set the random generated board starting positions\u001b[39;00m\n\u001b[1;32m----> 2\u001b[0m win_net, win_genome, stats \u001b[38;5;241m=\u001b[39m \u001b[43mrun\u001b[49m\u001b[43m(\u001b[49m\u001b[43mconfig_path\u001b[49m\u001b[43m,\u001b[49m\u001b[43m \u001b[49m\u001b[38;5;124;43m\"\u001b[39;49m\u001b[38;5;124;43mNew Self-Play test\u001b[39;49m\u001b[38;5;124;43m\"\u001b[39;49m\u001b[43m)\u001b[49m\n",
      "File \u001b[1;32mC:\\_Kevin\\UT-Stuff\\_Summer2023\\CS370\\kriek-cs370\\Neat_AI.py:167\u001b[0m, in \u001b[0;36mrun\u001b[1;34m(config_file, run_name)\u001b[0m\n\u001b[0;32m    164\u001b[0m     thread_manager\u001b[38;5;241m.\u001b[39mmap_layouts \u001b[38;5;241m=\u001b[39m copy\u001b[38;5;241m.\u001b[39mdeepcopy(root_manager\u001b[38;5;241m.\u001b[39mmap_layouts)\n\u001b[0;32m    165\u001b[0m     managers\u001b[38;5;241m.\u001b[39mappend(thread_manager)\n\u001b[1;32m--> 167\u001b[0m winner \u001b[38;5;241m=\u001b[39m \u001b[43mp\u001b[49m\u001b[38;5;241;43m.\u001b[39;49m\u001b[43mrun\u001b[49m\u001b[43m(\u001b[49m\u001b[43meval_genomes\u001b[49m\u001b[43m,\u001b[49m\u001b[43m \u001b[49m\u001b[43mgenerations\u001b[49m\u001b[43m)\u001b[49m\n\u001b[0;32m    169\u001b[0m \u001b[38;5;66;03m# Display the winning genome.\u001b[39;00m\n\u001b[0;32m    170\u001b[0m \u001b[38;5;28mprint\u001b[39m(\u001b[38;5;124m'\u001b[39m\u001b[38;5;130;01m\\n\u001b[39;00m\u001b[38;5;124mBest genome:\u001b[39m\u001b[38;5;130;01m\\n\u001b[39;00m\u001b[38;5;132;01m{!s}\u001b[39;00m\u001b[38;5;124m'\u001b[39m\u001b[38;5;241m.\u001b[39mformat(winner))\n",
      "File \u001b[1;32m~\\anaconda3\\lib\\site-packages\\neat\\population.py:89\u001b[0m, in \u001b[0;36mPopulation.run\u001b[1;34m(self, fitness_function, n)\u001b[0m\n\u001b[0;32m     86\u001b[0m \u001b[38;5;28mself\u001b[39m\u001b[38;5;241m.\u001b[39mreporters\u001b[38;5;241m.\u001b[39mstart_generation(\u001b[38;5;28mself\u001b[39m\u001b[38;5;241m.\u001b[39mgeneration)\n\u001b[0;32m     88\u001b[0m \u001b[38;5;66;03m# Evaluate all genomes using the user-provided function.\u001b[39;00m\n\u001b[1;32m---> 89\u001b[0m \u001b[43mfitness_function\u001b[49m\u001b[43m(\u001b[49m\u001b[38;5;28;43mlist\u001b[39;49m\u001b[43m(\u001b[49m\u001b[43miteritems\u001b[49m\u001b[43m(\u001b[49m\u001b[38;5;28;43mself\u001b[39;49m\u001b[38;5;241;43m.\u001b[39;49m\u001b[43mpopulation\u001b[49m\u001b[43m)\u001b[49m\u001b[43m)\u001b[49m\u001b[43m,\u001b[49m\u001b[43m \u001b[49m\u001b[38;5;28;43mself\u001b[39;49m\u001b[38;5;241;43m.\u001b[39;49m\u001b[43mconfig\u001b[49m\u001b[43m)\u001b[49m\n\u001b[0;32m     91\u001b[0m \u001b[38;5;66;03m# Gather and report statistics.\u001b[39;00m\n\u001b[0;32m     92\u001b[0m best \u001b[38;5;241m=\u001b[39m \u001b[38;5;28;01mNone\u001b[39;00m\n",
      "File \u001b[1;32mC:\\_Kevin\\UT-Stuff\\_Summer2023\\CS370\\kriek-cs370\\Neat_AI.py:86\u001b[0m, in \u001b[0;36meval_genomes\u001b[1;34m(genomes, config)\u001b[0m\n\u001b[0;32m     83\u001b[0m \u001b[38;5;28;01mglobal\u001b[39;00m manager\n\u001b[0;32m     84\u001b[0m \u001b[38;5;66;03m#one game for each layout, from each side (times 2)\u001b[39;00m\n\u001b[0;32m     85\u001b[0m \u001b[38;5;66;03m# games_run = (len(best_genomes_reporter.eval_nets) + 1) * len(manager.map_layouts) * 2 \u001b[39;00m\n\u001b[1;32m---> 86\u001b[0m games_run \u001b[38;5;241m=\u001b[39m \u001b[38;5;28mlen\u001b[39m(\u001b[43mmanager\u001b[49m\u001b[38;5;241m.\u001b[39mmap_layouts) \u001b[38;5;241m*\u001b[39m \u001b[38;5;241m2\u001b[39m \n\u001b[0;32m     87\u001b[0m genomes_per_thread \u001b[38;5;241m=\u001b[39m \u001b[38;5;28mlen\u001b[39m(genomes) \u001b[38;5;241m/\u001b[39m\u001b[38;5;241m/\u001b[39m thread_count\n\u001b[0;32m     88\u001b[0m threads \u001b[38;5;241m=\u001b[39m []\n",
      "\u001b[1;31mNameError\u001b[0m: name 'manager' is not defined"
     ]
    }
   ],
   "source": [
    "random.seed(4123) #This is to set the random generated board starting positions\n",
    "win_net, win_genome, stats = run(config_path, \"New Self-Play test\")"
   ]
  },
  {
   "cell_type": "code",
   "execution_count": 234,
   "id": "79a47a57",
   "metadata": {},
   "outputs": [],
   "source": [
    "win_net1 = win_net\n",
    "stats1 = stats"
   ]
  },
  {
   "cell_type": "code",
   "execution_count": 267,
   "id": "d60ba22a",
   "metadata": {},
   "outputs": [
    {
     "name": "stdout",
     "output_type": "stream",
     "text": [
      "Mean genetic distance 1.323, standard deviation 0.442\n"
     ]
    }
   ],
   "source": [
    "#Restore a checkpoint to resume Run\n",
    "config = neat.Config(neat.DefaultGenome, neat.DefaultReproduction,\n",
    "                     neat.DefaultSpeciesSet, neat.DefaultStagnation,\n",
    "                     config_path)\n",
    "a\n",
    "p = neat.checkpoint.Checkpointer.restore_checkpoint(\"./checkpoints/Global-Position-Eval-Func_vsScript_difference/neat-checkpoint-29\")\n",
    "winner = p.run(eval_genomes, 1)\n",
    "winner_net = neat.nn.FeedForwardNetwork.create(winner, config)"
   ]
  },
  {
   "cell_type": "code",
   "execution_count": 172,
   "id": "c8bee9de",
   "metadata": {},
   "outputs": [
    {
     "name": "stdout",
     "output_type": "stream",
     "text": [
      "<neat.nn.feed_forward.FeedForwardNetwork object at 0x0000026697FCDAC0>\n"
     ]
    }
   ],
   "source": [
    "#Restoring a best network for testing\n",
    "net = load_net(\"./best/Relative-Position-Eval-Func-config\", \"./best/Relative-Position-Eval-Func-genome\")\n",
    "print(net)"
   ]
  },
  {
   "cell_type": "code",
   "execution_count": null,
   "id": "79770f5a",
   "metadata": {},
   "outputs": [],
   "source": []
  }
 ],
 "metadata": {
  "kernelspec": {
   "display_name": "Python 3 (ipykernel)",
   "language": "python",
   "name": "python3"
  },
  "language_info": {
   "codemirror_mode": {
    "name": "ipython",
    "version": 3
   },
   "file_extension": ".py",
   "mimetype": "text/x-python",
   "name": "python",
   "nbconvert_exporter": "python",
   "pygments_lexer": "ipython3",
   "version": "3.8.17"
  }
 },
 "nbformat": 4,
 "nbformat_minor": 5
}
