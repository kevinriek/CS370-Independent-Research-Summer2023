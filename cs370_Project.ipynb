{
 "cells": [
  {
   "cell_type": "code",
   "execution_count": 1,
   "id": "ad633466",
   "metadata": {},
   "outputs": [],
   "source": [
    "import numpy as np\n",
    "import math \n",
    "import queue\n",
    "import os\n",
    "import neat\n",
    "import visualize\n",
    "import random\n",
    "import matplotlib.pyplot as plt\n",
    "import pickle\n",
    "\n",
    "import GameManager\n",
    "from GameManager import map_manager, Tile, Unit, Team\n",
    "\n",
    "import Neat_AI\n",
    "from Neat_AI import eval_genomes, run\n",
    "\n",
    "import AI_modules\n",
    "from AI_modules import no_ai, rand_ai, script_ai, neat_ai"
   ]
  },
  {
   "cell_type": "code",
   "execution_count": 2,
   "id": "aa70ca01",
   "metadata": {},
   "outputs": [],
   "source": [
    "local_dir = os.path.abspath('')\n",
    "config_path = os.path.join(local_dir, 'config-feedforward')"
   ]
  },
  {
   "cell_type": "code",
   "execution_count": 213,
   "id": "e724594e",
   "metadata": {},
   "outputs": [
    {
     "name": "stdout",
     "output_type": "stream",
     "text": [
      "\u001b[94m[0]\u001b[0m\u001b[94m[ ]\u001b[0m\u001b[94m[ ]\u001b[0m\u001b[94m[ ]\u001b[0m\n",
      "\u001b[94m[ ]\u001b[0m\u001b[94m[ ]\u001b[0m\u001b[94m[ ]\u001b[0m[ ]\n",
      "\u001b[94m[ ]\u001b[0m\u001b[94m[ ]\u001b[0m[1][ ]\n",
      "\u001b[94m[ ]\u001b[0m[ ][ ][ ]\n",
      "\n"
     ]
    }
   ],
   "source": [
    "dimensions = (4,4)\n",
    "manager = map_manager(dimensions)\n",
    "\n",
    "manager.setup_rand(1)\n",
    "manager.find_movement(manager.Units[0])\n",
    "print(manager)\n"
   ]
  },
  {
   "cell_type": "code",
   "execution_count": 146,
   "id": "f792c0cc",
   "metadata": {},
   "outputs": [
    {
     "name": "stdout",
     "output_type": "stream",
     "text": [
      "[ ][ ][ ][ ][ ][1][ ]\n",
      "[ ][ ][ ][ ][ ][ ][ ]\n",
      "[ ][0][0][ ][ ][ ][1]\n",
      "[ ]\u001b[94m[ ]\u001b[0m[ ][ ][ ][1][ ]\n",
      "\u001b[94m[ ]\u001b[0m\u001b[94m[ ]\u001b[0m\u001b[94m[ ]\u001b[0m[ ][ ][ ][ ]\n",
      "\u001b[94m[ ]\u001b[0m\u001b[94m[ ]\u001b[0m\u001b[94m[ ]\u001b[0m\u001b[94m[0]\u001b[0m[ ][ ][1]\n",
      "[0]\u001b[94m[ ]\u001b[0m[0][ ][ ][1][ ]\n",
      "\n",
      "[ ][ ][ ][ ][ ][ ][ ]\n",
      "[ ][ ][ ][ ][ ][ ][ ]\n",
      "[ ][0][0][ ][1][ ][ ]\n",
      "[ ][ ][ ][ ][ ]\u001b[94m[ ]\u001b[0m[ ]\n",
      "[ ][ ][ ][ ]\u001b[94m[ ]\u001b[0m\u001b[94m[ ]\u001b[0m[1]\n",
      "[ ][ ][ ][0][1]\u001b[94m[ ]\u001b[0m\u001b[94m[ ]\u001b[0m\n",
      "[0][ ][0]\u001b[94m[1]\u001b[0m\u001b[94m[ ]\u001b[0m\u001b[94m[ ]\u001b[0m[1]\n",
      "\n",
      "[ ][ ][ ][ ][ ][ ][ ]\n",
      "[ ][ ][ ][ ][ ][ ][ ]\n",
      "[ ][ ][ ]\u001b[94m[ ]\u001b[0m[1][ ][ ]\n",
      "[ ][ ]\u001b[94m[ ]\u001b[0m\u001b[94m[ ]\u001b[0m\u001b[94m[ ]\u001b[0m[ ][ ]\n",
      "[ ]\u001b[94m[ ]\u001b[0m\u001b[94m[ ]\u001b[0m\u001b[94m[ ]\u001b[0m\u001b[94m[ ]\u001b[0m\u001b[94m[ ]\u001b[0m[1]\n",
      "[ ][0][0]\u001b[94m[0]\u001b[0m[1][ ][ ]\n",
      "[ ][0][0][1][ ][ ][1]\n",
      "\n",
      "[ ][ ][ ][ ][ ][ ][ ]\n",
      "[ ][ ][ ][ ][ ][ ][ ]\n",
      "[ ][ ][ ][ ][ ][ ][ ]\n",
      "[ ][ ][ ][ ][ ][ ][ ]\n",
      "[ ][ ][ ][1][ ][ ][ ]\n",
      "[ ][0][0][0][1][ ][ ]\n",
      "[ ][0][ ]\u001b[94m[1]\u001b[0m\u001b[94m[ ]\u001b[0m[1][1]\n",
      "\n",
      "[ ][ ][ ][ ][ ][ ][ ]\n",
      "[ ][ ][ ][ ][ ][ ][ ]\n",
      "[ ][ ][ ][ ][ ][ ][ ]\n",
      "[ ][ ][ ][ ][ ][ ][ ]\n",
      "[ ]\u001b[94m[ ]\u001b[0m[0][1][ ][ ][ ]\n",
      "\u001b[94m[ ]\u001b[0m\u001b[94m[ ]\u001b[0m\u001b[94m[ ]\u001b[0m\u001b[94m[ ]\u001b[0m[1][ ][ ]\n",
      "[ ][0][0]\u001b[94m[ ]\u001b[0m\u001b[94m[0]\u001b[0m[1][1]\n",
      "\n",
      "[ ][ ][ ][ ][ ][ ][ ]\n",
      "[ ][ ][ ][ ][ ][ ][ ]\n",
      "[ ][ ][ ][ ][ ][ ][ ]\n",
      "[ ][ ][ ][ ][ ][ ]\u001b[94m[ ]\u001b[0m\n",
      "[ ][ ][0][ ][ ]\u001b[94m[ ]\u001b[0m\u001b[94m[ ]\u001b[0m\n",
      "[ ][ ][1][ ]\u001b[94m[1]\u001b[0m\u001b[94m[ ]\u001b[0m\u001b[94m[ ]\u001b[0m\n",
      "[ ][0][ ][1][ ][1]\u001b[94m[ ]\u001b[0m\n",
      "\n",
      "[ ][ ][ ][ ][ ][ ][ ]\n",
      "[ ][ ][ ][ ][ ][ ][ ]\n",
      "[ ][ ][ ][ ][ ][ ][ ]\n",
      "[ ]\u001b[94m[ ]\u001b[0m[ ][ ][ ][ ][ ]\n",
      "\u001b[94m[ ]\u001b[0m\u001b[94m[ ]\u001b[0m\u001b[94m[ ]\u001b[0m[ ][ ][ ][ ]\n",
      "\u001b[94m[ ]\u001b[0m\u001b[94m[ ]\u001b[0m[ ][0][1][ ][ ]\n",
      "\u001b[94m[ ]\u001b[0m\u001b[94m[ ]\u001b[0m\u001b[94m[0]\u001b[0m\u001b[94m[ ]\u001b[0m\u001b[94m[ ]\u001b[0m[1][ ]\n",
      "\n",
      "[ ][ ][ ][ ][ ][ ][ ]\n",
      "[ ][ ][ ][ ][ ][ ][ ]\n",
      "[ ][ ][ ][ ]\u001b[94m[ ]\u001b[0m[ ][ ]\n",
      "[ ][ ][ ]\u001b[94m[ ]\u001b[0m\u001b[94m[ ]\u001b[0m\u001b[94m[ ]\u001b[0m[ ]\n",
      "[ ][ ]\u001b[94m[ ]\u001b[0m\u001b[94m[ ]\u001b[0m\u001b[94m[ ]\u001b[0m\u001b[94m[ ]\u001b[0m\u001b[94m[ ]\u001b[0m\n",
      "[ ][ ][ ][0]\u001b[94m[1]\u001b[0m\u001b[94m[ ]\u001b[0m\u001b[94m[ ]\u001b[0m\n",
      "[ ][ ][0][1]\u001b[94m[ ]\u001b[0m\u001b[94m[ ]\u001b[0m\u001b[94m[ ]\u001b[0m\n",
      "\n",
      "[ ][ ][ ][ ][ ][ ][ ]\n",
      "[ ][ ][ ][ ][ ][ ][ ]\n",
      "[ ][ ][ ][ ][ ][ ][ ]\n",
      "[ ][ ]\u001b[94m[ ]\u001b[0m[ ][ ][ ][ ]\n",
      "[ ]\u001b[94m[ ]\u001b[0m\u001b[94m[ ]\u001b[0m\u001b[94m[ ]\u001b[0m[ ][ ][ ]\n",
      "\u001b[94m[ ]\u001b[0m\u001b[94m[ ]\u001b[0m\u001b[94m[ ]\u001b[0m[0][1][ ][ ]\n",
      "\u001b[94m[ ]\u001b[0m\u001b[94m[ ]\u001b[0m\u001b[94m[ ]\u001b[0m\u001b[94m[ ]\u001b[0m\u001b[94m[0]\u001b[0m\u001b[94m[ ]\u001b[0m[ ]\n",
      "\n",
      "[ ][ ][ ][ ][ ][ ][ ]\n",
      "[ ][ ][ ][ ][ ][ ][ ]\n",
      "[ ][ ][ ][ ]\u001b[94m[ ]\u001b[0m[ ][ ]\n",
      "[ ][ ][ ]\u001b[94m[ ]\u001b[0m\u001b[94m[ ]\u001b[0m\u001b[94m[ ]\u001b[0m[ ]\n",
      "[ ][ ]\u001b[94m[ ]\u001b[0m\u001b[94m[ ]\u001b[0m\u001b[94m[ ]\u001b[0m\u001b[94m[ ]\u001b[0m\u001b[94m[ ]\u001b[0m\n",
      "[ ][ ][ ][ ]\u001b[94m[1]\u001b[0m\u001b[94m[ ]\u001b[0m\u001b[94m[ ]\u001b[0m\n",
      "[ ][ ][ ][ ][0]\u001b[94m[ ]\u001b[0m\u001b[94m[ ]\u001b[0m\n",
      "\n",
      "[ ][ ][ ][ ][ ][ ][ ]\n",
      "[ ][ ][ ][ ][ ][ ][ ]\n",
      "[ ][ ][ ][ ][ ][ ][ ]\n",
      "[ ][ ][ ][ ][ ][ ][ ]\n",
      "[ ][ ][ ]\u001b[94m[ ]\u001b[0m[ ]\u001b[94m[ ]\u001b[0m[ ]\n",
      "[ ][ ]\u001b[94m[ ]\u001b[0m\u001b[94m[ ]\u001b[0m[ ]\u001b[94m[ ]\u001b[0m\u001b[94m[ ]\u001b[0m\n",
      "[ ]\u001b[94m[ ]\u001b[0m\u001b[94m[ ]\u001b[0m\u001b[94m[ ]\u001b[0m\u001b[94m[0]\u001b[0m\u001b[94m[ ]\u001b[0m\u001b[94m[ ]\u001b[0m\n",
      "\n"
     ]
    }
   ],
   "source": [
    "dimensions = (7,7)\n",
    "units_per_side = 5\n",
    "manager = map_manager(dimensions)\n",
    "\n",
    "# for i in range(games_run):\n",
    "#also resets map\n",
    "manager.setup_rand(units_per_side)\n",
    "\n",
    "while (manager.game_joever() == -1 and manager.turn_count < 8): #Turn Count limit may have to be modified\n",
    "    for unit in manager.Teams[manager.curr_team].live_units:\n",
    "        win_move = (0, 0)\n",
    "        if manager.curr_team == 0:\n",
    "            win_move = neat_ai(manager, unit, win_net)\n",
    "        elif manager.curr_team == 1:\n",
    "            #win_move = script_ai(manager, unit)\\\n",
    "            win_move = neat_ai(manager, unit, win_net)\n",
    "        manager.move_unit(unit, win_move)\n",
    "    print(manager)\n",
    "    manager.Turn()"
   ]
  },
  {
   "cell_type": "code",
   "execution_count": 214,
   "id": "54712e7c",
   "metadata": {},
   "outputs": [
    {
     "ename": "NameError",
     "evalue": "name 'script_performance' is not defined",
     "output_type": "error",
     "traceback": [
      "\u001b[1;31m---------------------------------------------------------------------------\u001b[0m",
      "\u001b[1;31mNameError\u001b[0m                                 Traceback (most recent call last)",
      "Cell \u001b[1;32mIn[214], line 8\u001b[0m\n\u001b[0;32m      5\u001b[0m \u001b[38;5;66;03m# for i in range(games_run):\u001b[39;00m\n\u001b[0;32m      6\u001b[0m \u001b[38;5;66;03m#also resets map\u001b[39;00m\n\u001b[0;32m      7\u001b[0m manager\u001b[38;5;241m.\u001b[39msetup_rand(units_per_side)\n\u001b[1;32m----> 8\u001b[0m \u001b[43mscript_performance\u001b[49m(manager, \u001b[38;5;241m100\u001b[39m, )\n",
      "\u001b[1;31mNameError\u001b[0m: name 'script_performance' is not defined"
     ]
    }
   ],
   "source": [
    "dimensions = (7,7)\n",
    "units_per_side = 5\n",
    "manager = map_manager(dimensions)\n",
    "\n",
    "# for i in range(games_run):\n",
    "#also resets map\n",
    "manager.setup_rand(units_per_side)\n",
    "script_performance(manager, 100, )"
   ]
  },
  {
   "cell_type": "code",
   "execution_count": 215,
   "id": "bc9783e0",
   "metadata": {},
   "outputs": [],
   "source": [
    "from importlib import reload\n",
    "reload(GameManager)\n",
    "reload(AI_modules)\n",
    "reload(Neat_AI)\n",
    "\n",
    "\n",
    "from GameManager import map_manager, Tile, Unit, Team\n",
    "from Neat_AI import eval_genomes, run, load_net\n",
    "from AI_modules import no_ai, rand_ai, script_ai, neat_ai"
   ]
  },
  {
   "cell_type": "code",
   "execution_count": null,
   "id": "2c7dfc4e",
   "metadata": {},
   "outputs": [
    {
     "name": "stdout",
     "output_type": "stream",
     "text": [
      "\n",
      " ****** Running generation 0 ****** \n",
      "\n",
      "defaulting to first genome\n"
     ]
    }
   ],
   "source": [
    "win_net, stats = run(config_path, \"Global Pos Eval Func Self-Play\")"
   ]
  },
  {
   "cell_type": "code",
   "execution_count": null,
   "id": "79a47a57",
   "metadata": {},
   "outputs": [],
   "source": [
    "win_net1 = win_net\n",
    "stats1 = stats"
   ]
  },
  {
   "cell_type": "code",
   "execution_count": 267,
   "id": "d60ba22a",
   "metadata": {},
   "outputs": [
    {
     "name": "stdout",
     "output_type": "stream",
     "text": [
      "Mean genetic distance 1.323, standard deviation 0.442\n"
     ]
    }
   ],
   "source": [
    "config = neat.Config(neat.DefaultGenome, neat.DefaultReproduction,\n",
    "                     neat.DefaultSpeciesSet, neat.DefaultStagnation,\n",
    "                     config_path)\n",
    "\n",
    "p = neat.checkpoint.Checkpointer.restore_checkpoint(\"./checkpoints/Global-Position-Eval-Func_vsScript_difference/neat-checkpoint-29\")\n",
    "winner = p.run(eval_genomes, 1)\n",
    "winner_net = neat.nn.FeedForwardNetwork.create(winner, config)"
   ]
  },
  {
   "cell_type": "code",
   "execution_count": 172,
   "id": "c8bee9de",
   "metadata": {},
   "outputs": [
    {
     "name": "stdout",
     "output_type": "stream",
     "text": [
      "<neat.nn.feed_forward.FeedForwardNetwork object at 0x0000026697FCDAC0>\n"
     ]
    }
   ],
   "source": [
    "net = load_net(\"./best/Relative-Position-Eval-Func-config\", \"./best/Relative-Position-Eval-Func-genome\")\n",
    "print(net)"
   ]
  },
  {
   "cell_type": "code",
   "execution_count": 79,
   "id": "3e2a6cd4",
   "metadata": {},
   "outputs": [
    {
     "name": "stdout",
     "output_type": "stream",
     "text": [
      "[0][ ][ ][ ][ ][1][ ]\n",
      "[ ][ ][ ][ ][ ][ ][ ]\n",
      "[0][ ][ ][ ][ ][ ][1]\n",
      "[ ][0][ ][ ][ ][ ][1]\n",
      "[0][ ][ ][ ][ ][1][ ]\n",
      "[ ][ ][ ][ ][ ][ ][ ]\n",
      "[0][ ][ ][ ][ ][ ][1]\n",
      "\n"
     ]
    }
   ],
   "source": [
    "dimensions = (7,7)\n",
    "units_per_side = 5\n",
    "manager = map_manager(dimensions)\n",
    "\n",
    "manager.setup_rand(5)\n",
    "print(manager)"
   ]
  },
  {
   "cell_type": "code",
   "execution_count": null,
   "id": "79770f5a",
   "metadata": {},
   "outputs": [],
   "source": []
  }
 ],
 "metadata": {
  "kernelspec": {
   "display_name": "Python 3 (ipykernel)",
   "language": "python",
   "name": "python3"
  },
  "language_info": {
   "codemirror_mode": {
    "name": "ipython",
    "version": 3
   },
   "file_extension": ".py",
   "mimetype": "text/x-python",
   "name": "python",
   "nbconvert_exporter": "python",
   "pygments_lexer": "ipython3",
   "version": "3.8.17"
  }
 },
 "nbformat": 4,
 "nbformat_minor": 5
}
