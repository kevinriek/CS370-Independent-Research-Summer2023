{
 "cells": [
  {
   "cell_type": "code",
   "execution_count": 64,
   "id": "f019509a",
   "metadata": {},
   "outputs": [],
   "source": [
    "import numpy as np\n",
    "import math \n",
    "import queue"
   ]
  },
  {
   "cell_type": "code",
   "execution_count": 73,
   "id": "0f73a564",
   "metadata": {},
   "outputs": [],
   "source": [
    "class MapManager:\n",
    "    def __init__(self):\n",
    "        self.Map = Map_init()\n",
    "        self.Team1 = self.Team()\n",
    "        self.Team2 = self.Team()\n",
    "    \n",
    "    directions = [(1, 0), (0, 1), (-1, 0), (0, -1)]\n",
    "    \n",
    "    class Tile:\n",
    "        def __init__(self, pos, unit):\n",
    "            self.pos = pos\n",
    "            self.unit_ref = unit\n",
    "            self.tile_cost = 1.0 #Cost to move onto this tile\n",
    "            \n",
    "            self.move_cost = float('inf')\n",
    "            self.move_parent = None\n",
    "            self.visited = False\n",
    "            self.is_attack = False\n",
    "\n",
    "        def __str__(self):\n",
    "            return \"Tile ({0}, {1}):\\nUnit: {2}\".format(self.pos[0], self.pos[1], self.unit)\n",
    "        \n",
    "    def Map_init():\n",
    "        Map = np.empty([5, 5], dtype=Tile)\n",
    "        for i in range(Map.shape[0]):\n",
    "            for j in range(Map.shape[1]):\n",
    "                Map[i,j] = Tile((i, j), None)\n",
    "        return Map\n",
    "    \n",
    "    class Unit:\n",
    "        def __init__(self, pos, cmove, hp, mmove, Att, Def, Team):\n",
    "            self.pos = pos\n",
    "            self.curr_move = cmove\n",
    "            self.hp = hp\n",
    "            \n",
    "            self.max_move = mmove\n",
    "            self.Att = att\n",
    "            self.Def = Def\n",
    "            self.Team = Team\n",
    "            \n",
    "    def find_movement(unit):\n",
    "        dijstrkas(unit)\n",
    "    \n",
    "    def dijstrkas(unit):\n",
    "        visited_tiles = []\n",
    "        prio_queue = queue.PriorityQueue()\n",
    "        Map = self.Map\n",
    "        \n",
    "        prio_queue.put(0, Map[unit.pos])\n",
    "        visited_tiles.append(Map[unit.pos])\n",
    "        \n",
    "        while(not prio_queue.empty()):\n",
    "            curr_tile = prio_queue.get()\n",
    "            curr_pos = curr_tile.pos\n",
    "            curr_tile.visited = True\n",
    "            for i in range(4):\n",
    "                new_pos = curr_pos + directions[i] \n",
    "                if (new_pos[0] < 0 or new_pos[0] >= self.Map.shape[0] or\n",
    "                    new_pos[1] < 0 or new_pos[1] >= self.Map.shape[1] or\n",
    "                    (Map[new_pos].unit is not None and Map[new_pos].unit.Team == unit.Team) or\n",
    "                    new_pos == unit.pos or Map[new_pos].visited):\n",
    "                    pass\n",
    "                else:\n",
    "                    new_cost = Map[new_pos].tile_cost + curr_tile.move_cost\n",
    "                    if (Map[new_pos].move_cost > new_cost and new_cost < unit.curr_move):\n",
    "                        Map[new_pos].move_cost = new_cost\n",
    "                        Map[new_pos].move_parent = curr_tile\n",
    "                        if (Map[new_pos].unit is not None):\n",
    "                            Map[new_pos].is_attack = True\n",
    "                        visited_tiles.append(Map[new_pos])\n",
    "                        prio_queue.put(new_cost, Map[new_pos])\n",
    "                    \n",
    "        \n",
    "        \n",
    "    def clear_movement():\n",
    "        for i in range(self.Map.shape[0]):\n",
    "            for j in range(self.Map.shape[1]):\n",
    "                self.Map[i,j].move_cost = float('inf')\n",
    "                self.Map[i,j].visited = False\n",
    "                self.Map[i,j].is_attack = False\n",
    "                \n",
    "        \n",
    "    \n",
    "    def move_unit(unit, pos):\n",
    "        assert (self.Map[pos].unit_ref is None)\n",
    "        unit.pos = pos\n",
    "        self.Map[pos].unit_ref = unit\n",
    "        \n",
    "    \n",
    "    class Team:\n",
    "        def __init__(self):\n",
    "            self.units = []\n",
    "    "
   ]
  },
  {
   "cell_type": "code",
   "execution_count": 60,
   "id": "f1e2954e",
   "metadata": {},
   "outputs": [
    {
     "ename": "NameError",
     "evalue": "name 'team' is not defined",
     "output_type": "error",
     "traceback": [
      "\u001b[1;31m---------------------------------------------------------------------------\u001b[0m",
      "\u001b[1;31mNameError\u001b[0m                                 Traceback (most recent call last)",
      "Cell \u001b[1;32mIn[60], line 1\u001b[0m\n\u001b[1;32m----> 1\u001b[0m manager \u001b[38;5;241m=\u001b[39m \u001b[43mMapManager\u001b[49m\u001b[43m(\u001b[49m\u001b[43m)\u001b[49m\n",
      "Cell \u001b[1;32mIn[59], line 8\u001b[0m, in \u001b[0;36mMapManager.__init__\u001b[1;34m(self)\u001b[0m\n\u001b[0;32m      6\u001b[0m \u001b[38;5;28;01mdef\u001b[39;00m \u001b[38;5;21m__init__\u001b[39m(\u001b[38;5;28mself\u001b[39m):\n\u001b[0;32m      7\u001b[0m     \u001b[38;5;28mself\u001b[39m\u001b[38;5;241m.\u001b[39mMap \u001b[38;5;241m=\u001b[39m Map_init()\n\u001b[1;32m----> 8\u001b[0m     \u001b[38;5;28mself\u001b[39m\u001b[38;5;241m.\u001b[39mTeam1 \u001b[38;5;241m=\u001b[39m \u001b[43mteam\u001b[49m()\n\u001b[0;32m      9\u001b[0m     \u001b[38;5;28mself\u001b[39m\u001b[38;5;241m.\u001b[39mTeam2 \u001b[38;5;241m=\u001b[39m team()\n",
      "\u001b[1;31mNameError\u001b[0m: name 'team' is not defined"
     ]
    }
   ],
   "source": [
    "manager = MapManager()"
   ]
  },
  {
   "cell_type": "code",
   "execution_count": 61,
   "id": "b4648086",
   "metadata": {},
   "outputs": [],
   "source": [
    "Map = np.empty([5, 5], dtype=Tile)\n",
    "for i in range(Map.shape[0]):\n",
    "    for j in range(Map.shape[1]):\n",
    "        Map[i,j] = MapManager.Tile((i, j), None)"
   ]
  },
  {
   "cell_type": "code",
   "execution_count": null,
   "id": "e57bbb97",
   "metadata": {},
   "outputs": [],
   "source": []
  }
 ],
 "metadata": {
  "kernelspec": {
   "display_name": "Python 3",
   "language": "python",
   "name": "python3"
  },
  "language_info": {
   "codemirror_mode": {
    "name": "ipython",
    "version": 3
   },
   "file_extension": ".py",
   "mimetype": "text/x-python",
   "name": "python",
   "nbconvert_exporter": "python",
   "pygments_lexer": "ipython3",
   "version": "3.8.10"
  }
 },
 "nbformat": 4,
 "nbformat_minor": 5
}
