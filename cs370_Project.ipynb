{
 "cells": [
  {
   "cell_type": "code",
   "execution_count": 7,
   "id": "ad633466",
   "metadata": {},
   "outputs": [
    {
     "name": "stdout",
     "output_type": "stream",
     "text": [
      "The autoreload extension is already loaded. To reload it, use:\n",
      "  %reload_ext autoreload\n"
     ]
    }
   ],
   "source": [
    "import numpy as np\n",
    "import math \n",
    "import queue\n",
    "import os\n",
    "import neat\n",
    "import visualize\n",
    "import random\n",
    "import matplotlib.pyplot as plt\n",
    "import pickle\n",
    "\n",
    "%load_ext autoreload\n",
    "%autoreload 2\n",
    "\n",
    "import GameManager\n",
    "from GameManager import *\n",
    "\n",
    "import Neat_AI\n",
    "from Neat_AI import *\n",
    "\n",
    "import AI_modules\n",
    "from AI_modules import *\n",
    "\n",
    "import my_reporters\n",
    "from my_reporters import *"
   ]
  },
  {
   "cell_type": "code",
   "execution_count": 2,
   "id": "aa70ca01",
   "metadata": {},
   "outputs": [],
   "source": [
    "local_dir = os.path.abspath('')\n",
    "config_path = os.path.join(local_dir, 'config-feedforward')"
   ]
  },
  {
   "cell_type": "code",
   "execution_count": 12,
   "id": "e724594e",
   "metadata": {},
   "outputs": [],
   "source": [
    "dimensions = (8,8)\n",
    "manager = map_manager(dimensions)\n",
    "manager.setup_layouts_rand(layout_n=10, unit_count=5)"
   ]
  },
  {
   "cell_type": "code",
   "execution_count": 77,
   "id": "183ed5d4",
   "metadata": {},
   "outputs": [
    {
     "name": "stdout",
     "output_type": "stream",
     "text": [
      "[ ][0][ ][ ][ ][ ][1][ ]\n",
      "[ ][ ][ ][ ][ ][ ][ ][ ]\n",
      "[ ][0][ ][ ][ ][ ][ ][1]\n",
      "[0][ ][ ][ ][ ][ ][ ][ ]\n",
      "[ ][ ][ ][ ][ ][ ][ ][1]\n",
      "[0][ ][ ][ ][ ][ ][1][ ]\n",
      "[ ][0][ ][ ][ ][ ][ ][ ]\n",
      "[ ][ ][ ][ ][ ][ ][1][ ]\n",
      "\n",
      "\u001b[94m[ ]\u001b[0m[0]\u001b[94m[ ]\u001b[0m[ ][ ][ ][1][ ]\n",
      "\u001b[94m[ ]\u001b[0m\u001b[94m[ ]\u001b[0m\u001b[94m[ ]\u001b[0m\u001b[94m[ ]\u001b[0m[ ][ ][ ][ ]\n",
      "\u001b[94m[ ]\u001b[0m\u001b[94m[0]\u001b[0m\u001b[94m[ ]\u001b[0m\u001b[94m[ ]\u001b[0m\u001b[94m[ ]\u001b[0m[ ][ ][1]\n",
      "[0]\u001b[94m[ ]\u001b[0m\u001b[94m[ ]\u001b[0m\u001b[94m[ ]\u001b[0m[ ][ ][ ][ ]\n",
      "\u001b[94m[ ]\u001b[0m\u001b[94m[ ]\u001b[0m\u001b[94m[ ]\u001b[0m[ ][ ][ ][ ][1]\n",
      "[0]\u001b[94m[ ]\u001b[0m[ ][ ][ ][ ][1][ ]\n",
      "[ ][0][ ][ ][ ][ ][ ][ ]\n",
      "[ ][ ][ ][ ][ ][ ][1][ ]\n",
      "\n",
      "Unit:\n",
      "\tpos: (2, 1)\n",
      "\tcurr_move: 3\n",
      "\thp: 100\n",
      "\ttemp_hp: 100\n",
      "\tmax_move: 3\n",
      "\tAtt: 20\n",
      "\tDef: 10\n",
      "\tTeam: 0\n",
      "\trotation: 0\n",
      "\n",
      "[ ][0][ ]\u001b[94m[ ]\u001b[0m\u001b[94m[ ]\u001b[0m\u001b[94m[ ]\u001b[0m[1][ ]\n",
      "[ ][ ]\u001b[94m[ ]\u001b[0m\u001b[94m[ ]\u001b[0m\u001b[94m[ ]\u001b[0m\u001b[94m[ ]\u001b[0m\u001b[94m[ ]\u001b[0m[ ]\n",
      "[ ]\u001b[94m[ ]\u001b[0m\u001b[94m[ ]\u001b[0m\u001b[94m[ ]\u001b[0m\u001b[94m[0]\u001b[0m\u001b[94m[ ]\u001b[0m\u001b[94m[ ]\u001b[0m\u001b[94m[1]\u001b[0m\n",
      "[0][ ]\u001b[94m[ ]\u001b[0m\u001b[94m[ ]\u001b[0m\u001b[94m[ ]\u001b[0m\u001b[94m[ ]\u001b[0m\u001b[94m[ ]\u001b[0m[ ]\n",
      "[ ][ ][ ]\u001b[94m[ ]\u001b[0m\u001b[94m[ ]\u001b[0m\u001b[94m[ ]\u001b[0m[ ][1]\n",
      "[0][ ][ ][ ]\u001b[94m[ ]\u001b[0m[ ][1][ ]\n",
      "[ ][0][ ][ ][ ][ ][ ][ ]\n",
      "[ ][ ][ ][ ][ ][ ][1][ ]\n",
      "\n",
      "Unit:\n",
      "\tpos: (2, 4)\n",
      "\tcurr_move: 0.0\n",
      "\thp: 100\n",
      "\ttemp_hp: 100\n",
      "\tmax_move: 3\n",
      "\tAtt: 20\n",
      "\tDef: 10\n",
      "\tTeam: 0\n",
      "\trotation: 0\n",
      "\n",
      "[ ][0][ ][ ][ ]\u001b[94m[ ]\u001b[0m\u001b[94m[1]\u001b[0m\u001b[94m[ ]\u001b[0m\n",
      "[ ][ ][ ][ ]\u001b[94m[ ]\u001b[0m\u001b[94m[ ]\u001b[0m\u001b[94m[ ]\u001b[0m\u001b[94m[ ]\u001b[0m\n",
      "[ ][ ][ ]\u001b[94m[ ]\u001b[0m\u001b[94m[ ]\u001b[0m\u001b[94m[ ]\u001b[0m\u001b[94m[0]\u001b[0m\u001b[94m[1]\u001b[0m\n",
      "[0][ ][ ][ ]\u001b[94m[ ]\u001b[0m\u001b[94m[ ]\u001b[0m\u001b[94m[ ]\u001b[0m\u001b[94m[ ]\u001b[0m\n",
      "[ ][ ][ ][ ][ ]\u001b[94m[ ]\u001b[0m\u001b[94m[ ]\u001b[0m\u001b[94m[1]\u001b[0m\n",
      "[0][ ][ ][ ][ ][ ]\u001b[94m[1]\u001b[0m[ ]\n",
      "[ ][0][ ][ ][ ][ ][ ][ ]\n",
      "[ ][ ][ ][ ][ ][ ][1][ ]\n",
      "\n",
      "Unit:\n",
      "\tpos: (2, 6)\n",
      "\tcurr_move: -2.0\n",
      "\thp: 100\n",
      "\ttemp_hp: 100\n",
      "\tmax_move: 3\n",
      "\tAtt: 20\n",
      "\tDef: 10\n",
      "\tTeam: 0\n",
      "\trotation: 0\n",
      "\n",
      "[ ][0][ ][ ][ ][ ]\u001b[94m[1]\u001b[0m\u001b[94m[0]\u001b[0m\n",
      "[ ][ ][ ][ ][ ]\u001b[94m[ ]\u001b[0m\u001b[94m[ ]\u001b[0m\u001b[94m[ ]\u001b[0m\n",
      "[ ][ ][ ][ ][ ][ ]\u001b[94m[ ]\u001b[0m\u001b[94m[1]\u001b[0m\n",
      "[0][ ][ ][ ][ ][ ][ ][ ]\n",
      "[ ][ ][ ][ ][ ][ ][ ][1]\n",
      "[0][ ][ ][ ][ ][ ][1][ ]\n",
      "[ ][0][ ][ ][ ][ ][ ][ ]\n",
      "[ ][ ][ ][ ][ ][ ][1][ ]\n",
      "\n",
      "Unit:\n",
      "\tpos: (0, 7)\n",
      "\tcurr_move: -5.0\n",
      "\thp: 100\n",
      "\ttemp_hp: 100\n",
      "\tmax_move: 3\n",
      "\tAtt: 20\n",
      "\tDef: 10\n",
      "\tTeam: 0\n",
      "\trotation: 3\n",
      "\n",
      "damage: 120.0\n",
      "[ ][0][ ][ ]\u001b[94m[ ]\u001b[0m\u001b[94m[ ]\u001b[0m\u001b[94m[ ]\u001b[0m\u001b[94m[0]\u001b[0m\n",
      "[ ][ ][ ][ ][ ]\u001b[94m[ ]\u001b[0m\u001b[94m[ ]\u001b[0m\u001b[94m[ ]\u001b[0m\n",
      "[ ][ ][ ][ ][ ][ ]\u001b[94m[ ]\u001b[0m\u001b[94m[1]\u001b[0m\n",
      "[0][ ][ ][ ][ ][ ][ ][ ]\n",
      "[ ][ ][ ][ ][ ][ ][ ][1]\n",
      "[0][ ][ ][ ][ ][ ][1][ ]\n",
      "[ ][0][ ][ ][ ][ ][ ][ ]\n",
      "[ ][ ][ ][ ][ ][ ][1][ ]\n",
      "\n",
      "Unit:\n",
      "\tpos: (0, 7)\n",
      "\tcurr_move: -5.0\n",
      "\thp: 100\n",
      "\ttemp_hp: 100\n",
      "\tmax_move: 3\n",
      "\tAtt: 20\n",
      "\tDef: 10\n",
      "\tTeam: 0\n",
      "\trotation: 2\n",
      "\n",
      "[ ][0][ ]\u001b[94m[ ]\u001b[0m\u001b[94m[ ]\u001b[0m\u001b[94m[ ]\u001b[0m\u001b[94m[0]\u001b[0m\u001b[94m[ ]\u001b[0m\n",
      "[ ][ ][ ][ ]\u001b[94m[ ]\u001b[0m\u001b[94m[ ]\u001b[0m\u001b[94m[ ]\u001b[0m\u001b[94m[ ]\u001b[0m\n",
      "[ ][ ][ ][ ][ ]\u001b[94m[ ]\u001b[0m\u001b[94m[ ]\u001b[0m\u001b[94m[1]\u001b[0m\n",
      "[0][ ][ ][ ][ ][ ]\u001b[94m[ ]\u001b[0m[ ]\n",
      "[ ][ ][ ][ ][ ][ ][ ][1]\n",
      "[0][ ][ ][ ][ ][ ][1][ ]\n",
      "[ ][0][ ][ ][ ][ ][ ][ ]\n",
      "[ ][ ][ ][ ][ ][ ][1][ ]\n",
      "\n",
      "Unit:\n",
      "\tpos: (0, 6)\n",
      "\tcurr_move: -6.0\n",
      "\thp: 100\n",
      "\ttemp_hp: 100\n",
      "\tmax_move: 3\n",
      "\tAtt: 20\n",
      "\tDef: 10\n",
      "\tTeam: 0\n",
      "\trotation: 2\n",
      "\n"
     ]
    }
   ],
   "source": [
    "manager.apply_map_layout(2)\n",
    "print(manager)\n",
    "\n",
    "my_unit = manager.Units[1]\n",
    "manager.find_movement(my_unit)\n",
    "print(manager)\n",
    "print(my_unit)\n",
    "\n",
    "manager.move_unit(my_unit, (2, 4))\n",
    "manager.find_movement(my_unit)\n",
    "print(manager)\n",
    "print(my_unit)\n",
    "\n",
    "manager.move_unit(my_unit, (2, 6))\n",
    "manager.find_movement(my_unit)\n",
    "print(manager)\n",
    "print(my_unit)\n",
    "\n",
    "manager.move_unit(my_unit, (0, 7))\n",
    "manager.find_movement(my_unit)\n",
    "print(manager)\n",
    "print(my_unit)\n",
    "\n",
    "manager.move_unit(my_unit, (0, 6))\n",
    "manager.find_movement(my_unit)\n",
    "print(manager)\n",
    "print(my_unit)\n",
    "\n",
    "manager.move_unit(my_unit, (0, 6))\n",
    "manager.find_movement(my_unit)\n",
    "print(manager)\n",
    "print(my_unit)"
   ]
  },
  {
   "cell_type": "code",
   "execution_count": null,
   "id": "f792c0cc",
   "metadata": {},
   "outputs": [],
   "source": [
    "dimensions = (8,8)\n",
    "units_per_side = 5\n",
    "manager = map_manager(dimensions)\n",
    "\n",
    "# for i in range(games_run):\n",
    "#also resets map\n",
    "manager.setup_rand(units_per_side)\n",
    "print(manager)\n",
    "\n",
    "while (manager.game_joever() == -1 and manager.turn_count < 8): #Turn Count limit may have to be modified\n",
    "    for unit in manager.Teams[manager.curr_team].live_units:\n",
    "        win_move = (0, 0)\n",
    "        if manager.curr_team == 0:\n",
    "            win_move = neat_ai(manager, unit, win_net)\n",
    "        elif manager.curr_team == 1:\n",
    "            win_move = script_ai(manager, unit)\\\n",
    "            #win_move = neat_ai(manager, unit, win_net)\n",
    "        manager.move_unit(unit, win_move)\n",
    "        print(manager)\n",
    "    manager.Turn()"
   ]
  },
  {
   "cell_type": "code",
   "execution_count": 15,
   "id": "54712e7c",
   "metadata": {},
   "outputs": [
    {
     "ename": "NameError",
     "evalue": "name 'win_net' is not defined",
     "output_type": "error",
     "traceback": [
      "\u001b[1;31m---------------------------------------------------------------------------\u001b[0m",
      "\u001b[1;31mNameError\u001b[0m                                 Traceback (most recent call last)",
      "Cell \u001b[1;32mIn[15], line 9\u001b[0m\n\u001b[0;32m      5\u001b[0m \u001b[38;5;66;03m# for i in range(games_run):\u001b[39;00m\n\u001b[0;32m      6\u001b[0m config \u001b[38;5;241m=\u001b[39m neat\u001b[38;5;241m.\u001b[39mConfig(neat\u001b[38;5;241m.\u001b[39mDefaultGenome, neat\u001b[38;5;241m.\u001b[39mDefaultReproduction,\n\u001b[0;32m      7\u001b[0m                      neat\u001b[38;5;241m.\u001b[39mDefaultSpeciesSet, neat\u001b[38;5;241m.\u001b[39mDefaultStagnation,\n\u001b[0;32m      8\u001b[0m                      config_path)\n\u001b[1;32m----> 9\u001b[0m script_performance(manager, \u001b[43mwin_net\u001b[49m, config)\n",
      "\u001b[1;31mNameError\u001b[0m: name 'win_net' is not defined"
     ]
    }
   ],
   "source": [
    "dimensions = (8,8)\n",
    "units_per_side = 5\n",
    "manager = map_manager(dimensions)\n",
    "\n",
    "# for i in range(games_run):\n",
    "config = neat.Config(neat.DefaultGenome, neat.DefaultReproduction,\n",
    "                     neat.DefaultSpeciesSet, neat.DefaultStagnation,\n",
    "                     config_path)\n",
    "script_performance(manager, win_net, config)"
   ]
  },
  {
   "cell_type": "code",
   "execution_count": 6,
   "id": "2c7dfc4e",
   "metadata": {},
   "outputs": [
    {
     "name": "stderr",
     "output_type": "stream",
     "text": [
      "Exception ignored in: <Finalize object, dead>\n",
      "Traceback (most recent call last):\n",
      "  File \"C:\\Users\\kevin\\anaconda3\\lib\\multiprocessing\\util.py\", line 214, in __call__\n",
      "    del _finalizer_registry[self._key]\n",
      "KeyboardInterrupt: \n"
     ]
    },
    {
     "name": "stdout",
     "output_type": "stream",
     "text": [
      "\n",
      " ****** Running generation 0 ****** \n",
      "\n"
     ]
    },
    {
     "ename": "KeyboardInterrupt",
     "evalue": "",
     "output_type": "error",
     "traceback": [
      "\u001b[1;31m---------------------------------------------------------------------------\u001b[0m",
      "\u001b[1;31mKeyboardInterrupt\u001b[0m                         Traceback (most recent call last)",
      "Cell \u001b[1;32mIn[6], line 2\u001b[0m\n\u001b[0;32m      1\u001b[0m random\u001b[38;5;241m.\u001b[39mseed(\u001b[38;5;241m2022\u001b[39m) \u001b[38;5;66;03m#This is to set the random generated board starting positions\u001b[39;00m\n\u001b[1;32m----> 2\u001b[0m win_net, win_genome, stats \u001b[38;5;241m=\u001b[39m \u001b[43mNeat_AI\u001b[49m\u001b[38;5;241;43m.\u001b[39;49m\u001b[43mrun\u001b[49m\u001b[43m(\u001b[49m\u001b[43mconfig_path\u001b[49m\u001b[43m,\u001b[49m\u001b[43m \u001b[49m\u001b[38;5;124;43m\"\u001b[39;49m\u001b[38;5;124;43mMove-Pick Updated Self-Play\u001b[39;49m\u001b[38;5;124;43m\"\u001b[39;49m\u001b[43m)\u001b[49m\n",
      "File \u001b[1;32mC:\\_Kevin\\UT-Stuff\\_Summer2023\\CS370\\kriek-cs370\\Neat_AI.py:167\u001b[0m, in \u001b[0;36mrun\u001b[1;34m(config_file, run_name)\u001b[0m\n\u001b[0;32m    164\u001b[0m     thread_manager\u001b[38;5;241m.\u001b[39mcopy_setup(root_manager)\n\u001b[0;32m    165\u001b[0m     managers\u001b[38;5;241m.\u001b[39mappend(thread_manager)\n\u001b[1;32m--> 167\u001b[0m winner \u001b[38;5;241m=\u001b[39m \u001b[43mp\u001b[49m\u001b[38;5;241;43m.\u001b[39;49m\u001b[43mrun\u001b[49m\u001b[43m(\u001b[49m\u001b[43meval_genomes\u001b[49m\u001b[43m,\u001b[49m\u001b[43m \u001b[49m\u001b[43mgenerations\u001b[49m\u001b[43m)\u001b[49m\n\u001b[0;32m    169\u001b[0m \u001b[38;5;66;03m# Display the winning genome.\u001b[39;00m\n\u001b[0;32m    170\u001b[0m \u001b[38;5;28mprint\u001b[39m(\u001b[38;5;124m'\u001b[39m\u001b[38;5;130;01m\\n\u001b[39;00m\u001b[38;5;124mBest genome:\u001b[39m\u001b[38;5;130;01m\\n\u001b[39;00m\u001b[38;5;132;01m{!s}\u001b[39;00m\u001b[38;5;124m'\u001b[39m\u001b[38;5;241m.\u001b[39mformat(winner))\n",
      "File \u001b[1;32m~\\anaconda3\\lib\\site-packages\\neat\\population.py:89\u001b[0m, in \u001b[0;36mPopulation.run\u001b[1;34m(self, fitness_function, n)\u001b[0m\n\u001b[0;32m     86\u001b[0m \u001b[38;5;28mself\u001b[39m\u001b[38;5;241m.\u001b[39mreporters\u001b[38;5;241m.\u001b[39mstart_generation(\u001b[38;5;28mself\u001b[39m\u001b[38;5;241m.\u001b[39mgeneration)\n\u001b[0;32m     88\u001b[0m \u001b[38;5;66;03m# Evaluate all genomes using the user-provided function.\u001b[39;00m\n\u001b[1;32m---> 89\u001b[0m \u001b[43mfitness_function\u001b[49m\u001b[43m(\u001b[49m\u001b[38;5;28;43mlist\u001b[39;49m\u001b[43m(\u001b[49m\u001b[43miteritems\u001b[49m\u001b[43m(\u001b[49m\u001b[38;5;28;43mself\u001b[39;49m\u001b[38;5;241;43m.\u001b[39;49m\u001b[43mpopulation\u001b[49m\u001b[43m)\u001b[49m\u001b[43m)\u001b[49m\u001b[43m,\u001b[49m\u001b[43m \u001b[49m\u001b[38;5;28;43mself\u001b[39;49m\u001b[38;5;241;43m.\u001b[39;49m\u001b[43mconfig\u001b[49m\u001b[43m)\u001b[49m\n\u001b[0;32m     91\u001b[0m \u001b[38;5;66;03m# Gather and report statistics.\u001b[39;00m\n\u001b[0;32m     92\u001b[0m best \u001b[38;5;241m=\u001b[39m \u001b[38;5;28;01mNone\u001b[39;00m\n",
      "File \u001b[1;32mC:\\_Kevin\\UT-Stuff\\_Summer2023\\CS370\\kriek-cs370\\Neat_AI.py:91\u001b[0m, in \u001b[0;36meval_genomes\u001b[1;34m(genomes, config)\u001b[0m\n\u001b[0;32m     88\u001b[0m     \u001b[38;5;28;01melse\u001b[39;00m:\n\u001b[0;32m     89\u001b[0m         input_ls\u001b[38;5;241m.\u001b[39mappend((config, op_net, genome, managers[\u001b[38;5;241m0\u001b[39m], \u001b[38;5;28;01mFalse\u001b[39;00m))\n\u001b[1;32m---> 91\u001b[0m ret_fitness \u001b[38;5;241m=\u001b[39m \u001b[43mmultiprocess_pool\u001b[49m\u001b[38;5;241;43m.\u001b[39;49m\u001b[43mstarmap\u001b[49m\u001b[43m(\u001b[49m\u001b[43mthread_eval\u001b[49m\u001b[43m,\u001b[49m\u001b[43m \u001b[49m\u001b[43minput_ls\u001b[49m\u001b[43m)\u001b[49m\n\u001b[0;32m     92\u001b[0m \u001b[38;5;66;03m#print(\"Returned fitness: {}\".format(ret_fitness))\u001b[39;00m\n\u001b[0;32m     93\u001b[0m \u001b[38;5;66;03m#multiprocess_pool.close()\u001b[39;00m\n\u001b[0;32m     94\u001b[0m \u001b[38;5;66;03m#multiprocess_pool.join()\u001b[39;00m\n\u001b[0;32m     96\u001b[0m index \u001b[38;5;241m=\u001b[39m \u001b[38;5;241m0\u001b[39m\n",
      "File \u001b[1;32m~\\anaconda3\\lib\\multiprocessing\\pool.py:372\u001b[0m, in \u001b[0;36mPool.starmap\u001b[1;34m(self, func, iterable, chunksize)\u001b[0m\n\u001b[0;32m    366\u001b[0m \u001b[38;5;28;01mdef\u001b[39;00m \u001b[38;5;21mstarmap\u001b[39m(\u001b[38;5;28mself\u001b[39m, func, iterable, chunksize\u001b[38;5;241m=\u001b[39m\u001b[38;5;28;01mNone\u001b[39;00m):\n\u001b[0;32m    367\u001b[0m \u001b[38;5;250m    \u001b[39m\u001b[38;5;124;03m'''\u001b[39;00m\n\u001b[0;32m    368\u001b[0m \u001b[38;5;124;03m    Like `map()` method but the elements of the `iterable` are expected to\u001b[39;00m\n\u001b[0;32m    369\u001b[0m \u001b[38;5;124;03m    be iterables as well and will be unpacked as arguments. Hence\u001b[39;00m\n\u001b[0;32m    370\u001b[0m \u001b[38;5;124;03m    `func` and (a, b) becomes func(a, b).\u001b[39;00m\n\u001b[0;32m    371\u001b[0m \u001b[38;5;124;03m    '''\u001b[39;00m\n\u001b[1;32m--> 372\u001b[0m     \u001b[38;5;28;01mreturn\u001b[39;00m \u001b[38;5;28;43mself\u001b[39;49m\u001b[38;5;241;43m.\u001b[39;49m\u001b[43m_map_async\u001b[49m\u001b[43m(\u001b[49m\u001b[43mfunc\u001b[49m\u001b[43m,\u001b[49m\u001b[43m \u001b[49m\u001b[43miterable\u001b[49m\u001b[43m,\u001b[49m\u001b[43m \u001b[49m\u001b[43mstarmapstar\u001b[49m\u001b[43m,\u001b[49m\u001b[43m \u001b[49m\u001b[43mchunksize\u001b[49m\u001b[43m)\u001b[49m\u001b[38;5;241;43m.\u001b[39;49m\u001b[43mget\u001b[49m\u001b[43m(\u001b[49m\u001b[43m)\u001b[49m\n",
      "File \u001b[1;32m~\\anaconda3\\lib\\multiprocessing\\pool.py:765\u001b[0m, in \u001b[0;36mApplyResult.get\u001b[1;34m(self, timeout)\u001b[0m\n\u001b[0;32m    764\u001b[0m \u001b[38;5;28;01mdef\u001b[39;00m \u001b[38;5;21mget\u001b[39m(\u001b[38;5;28mself\u001b[39m, timeout\u001b[38;5;241m=\u001b[39m\u001b[38;5;28;01mNone\u001b[39;00m):\n\u001b[1;32m--> 765\u001b[0m     \u001b[38;5;28;43mself\u001b[39;49m\u001b[38;5;241;43m.\u001b[39;49m\u001b[43mwait\u001b[49m\u001b[43m(\u001b[49m\u001b[43mtimeout\u001b[49m\u001b[43m)\u001b[49m\n\u001b[0;32m    766\u001b[0m     \u001b[38;5;28;01mif\u001b[39;00m \u001b[38;5;129;01mnot\u001b[39;00m \u001b[38;5;28mself\u001b[39m\u001b[38;5;241m.\u001b[39mready():\n\u001b[0;32m    767\u001b[0m         \u001b[38;5;28;01mraise\u001b[39;00m \u001b[38;5;167;01mTimeoutError\u001b[39;00m\n",
      "File \u001b[1;32m~\\anaconda3\\lib\\multiprocessing\\pool.py:762\u001b[0m, in \u001b[0;36mApplyResult.wait\u001b[1;34m(self, timeout)\u001b[0m\n\u001b[0;32m    761\u001b[0m \u001b[38;5;28;01mdef\u001b[39;00m \u001b[38;5;21mwait\u001b[39m(\u001b[38;5;28mself\u001b[39m, timeout\u001b[38;5;241m=\u001b[39m\u001b[38;5;28;01mNone\u001b[39;00m):\n\u001b[1;32m--> 762\u001b[0m     \u001b[38;5;28;43mself\u001b[39;49m\u001b[38;5;241;43m.\u001b[39;49m\u001b[43m_event\u001b[49m\u001b[38;5;241;43m.\u001b[39;49m\u001b[43mwait\u001b[49m\u001b[43m(\u001b[49m\u001b[43mtimeout\u001b[49m\u001b[43m)\u001b[49m\n",
      "File \u001b[1;32m~\\anaconda3\\lib\\threading.py:558\u001b[0m, in \u001b[0;36mEvent.wait\u001b[1;34m(self, timeout)\u001b[0m\n\u001b[0;32m    556\u001b[0m signaled \u001b[38;5;241m=\u001b[39m \u001b[38;5;28mself\u001b[39m\u001b[38;5;241m.\u001b[39m_flag\n\u001b[0;32m    557\u001b[0m \u001b[38;5;28;01mif\u001b[39;00m \u001b[38;5;129;01mnot\u001b[39;00m signaled:\n\u001b[1;32m--> 558\u001b[0m     signaled \u001b[38;5;241m=\u001b[39m \u001b[38;5;28;43mself\u001b[39;49m\u001b[38;5;241;43m.\u001b[39;49m\u001b[43m_cond\u001b[49m\u001b[38;5;241;43m.\u001b[39;49m\u001b[43mwait\u001b[49m\u001b[43m(\u001b[49m\u001b[43mtimeout\u001b[49m\u001b[43m)\u001b[49m\n\u001b[0;32m    559\u001b[0m \u001b[38;5;28;01mreturn\u001b[39;00m signaled\n",
      "File \u001b[1;32m~\\anaconda3\\lib\\threading.py:302\u001b[0m, in \u001b[0;36mCondition.wait\u001b[1;34m(self, timeout)\u001b[0m\n\u001b[0;32m    300\u001b[0m \u001b[38;5;28;01mtry\u001b[39;00m:    \u001b[38;5;66;03m# restore state no matter what (e.g., KeyboardInterrupt)\u001b[39;00m\n\u001b[0;32m    301\u001b[0m     \u001b[38;5;28;01mif\u001b[39;00m timeout \u001b[38;5;129;01mis\u001b[39;00m \u001b[38;5;28;01mNone\u001b[39;00m:\n\u001b[1;32m--> 302\u001b[0m         \u001b[43mwaiter\u001b[49m\u001b[38;5;241;43m.\u001b[39;49m\u001b[43macquire\u001b[49m\u001b[43m(\u001b[49m\u001b[43m)\u001b[49m\n\u001b[0;32m    303\u001b[0m         gotit \u001b[38;5;241m=\u001b[39m \u001b[38;5;28;01mTrue\u001b[39;00m\n\u001b[0;32m    304\u001b[0m     \u001b[38;5;28;01melse\u001b[39;00m:\n",
      "\u001b[1;31mKeyboardInterrupt\u001b[0m: "
     ]
    }
   ],
   "source": [
    "random.seed(2022) #This is to set the random generated board starting positions\n",
    "win_net, win_genome, stats = Neat_AI.run(config_path, \"Move-Pick Updated Self-Play\")"
   ]
  },
  {
   "cell_type": "code",
   "execution_count": 234,
   "id": "79a47a57",
   "metadata": {},
   "outputs": [],
   "source": [
    "win_net1 = win_net\n",
    "stats1 = stats"
   ]
  },
  {
   "cell_type": "code",
   "execution_count": 267,
   "id": "d60ba22a",
   "metadata": {},
   "outputs": [
    {
     "name": "stdout",
     "output_type": "stream",
     "text": [
      "Mean genetic distance 1.323, standard deviation 0.442\n"
     ]
    }
   ],
   "source": [
    "#Restore a checkpoint to resume Run\n",
    "config = neat.Config(neat.DefaultGenome, neat.DefaultReproduction,\n",
    "                     neat.DefaultSpeciesSet, neat.DefaultStagnation,\n",
    "                     config_path)\n",
    "a\n",
    "p = neat.checkpoint.Checkpointer.restore_checkpoint(\"./checkpoints/Global-Position-Eval-Func_vsScript_difference/neat-checkpoint-29\")\n",
    "winner = p.run(eval_genomes, 1)\n",
    "winner_net = neat.nn.FeedForwardNetwork.create(winner, config)"
   ]
  },
  {
   "cell_type": "code",
   "execution_count": 172,
   "id": "c8bee9de",
   "metadata": {},
   "outputs": [
    {
     "name": "stdout",
     "output_type": "stream",
     "text": [
      "<neat.nn.feed_forward.FeedForwardNetwork object at 0x0000026697FCDAC0>\n"
     ]
    }
   ],
   "source": [
    "#Restoring a best network for testing\n",
    "net = load_net(\"./best/Relative-Position-Eval-Func-config\", \"./best/Relative-Position-Eval-Func-genome\")\n",
    "print(net)"
   ]
  },
  {
   "cell_type": "code",
   "execution_count": null,
   "id": "79770f5a",
   "metadata": {},
   "outputs": [],
   "source": []
  }
 ],
 "metadata": {
  "kernelspec": {
   "display_name": "Python 3 (ipykernel)",
   "language": "python",
   "name": "python3"
  },
  "language_info": {
   "codemirror_mode": {
    "name": "ipython",
    "version": 3
   },
   "file_extension": ".py",
   "mimetype": "text/x-python",
   "name": "python",
   "nbconvert_exporter": "python",
   "pygments_lexer": "ipython3",
   "version": "3.8.17"
  }
 },
 "nbformat": 4,
 "nbformat_minor": 5
}
