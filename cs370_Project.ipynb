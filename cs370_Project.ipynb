{
 "cells": [
  {
   "cell_type": "code",
   "execution_count": 156,
   "id": "ad633466",
   "metadata": {},
   "outputs": [],
   "source": [
    "import numpy as np\n",
    "import math \n",
    "import queue\n",
    "import os\n",
    "import neat\n",
    "import visualize\n",
    "import random\n",
    "import matplotlib.pyplot as plt\n",
    "import pickle\n",
    "\n",
    "import GameManager\n",
    "from GameManager import map_manager, Tile, Unit, Team\n",
    "\n",
    "import Neat_AI\n",
    "from Neat_AI import eval_genomes, run\n",
    "\n",
    "import AI_modules\n",
    "from AI_modules import no_ai, rand_ai, script_ai, neat_ai"
   ]
  },
  {
   "cell_type": "code",
   "execution_count": 8,
   "id": "aa70ca01",
   "metadata": {},
   "outputs": [],
   "source": [
    "local_dir = os.path.abspath('')\n",
    "config_path = os.path.join(local_dir, 'config-feedforward')"
   ]
  },
  {
   "cell_type": "code",
   "execution_count": 64,
   "id": "df6b2aeb",
   "metadata": {},
   "outputs": [
    {
     "name": "stdout",
     "output_type": "stream",
     "text": [
      "[ ][ ][ ][ ][ ][ ][ ][ ]\n",
      "[ ][ ][ ][ ][ ][ ][ ][ ]\n",
      "[1][ ][ ][ ][ ][ ][ ][0]\n",
      "[1][ ][ ][ ][ ][ ][ ][0]\n",
      "[1][ ][ ][ ][ ][ ][ ][0]\n",
      "[1][ ][ ][ ][ ][ ][ ][0]\n",
      "[ ][ ][ ][ ][ ][ ][ ][ ]\n",
      "[ ][ ][ ][ ][ ][ ][ ][ ]\n",
      "\n"
     ]
    }
   ],
   "source": [
    "dimensions = (8,8)\n",
    "manager = map_manager(dimensions)\n",
    "\n",
    "pos_pick = random.randint(0, 1)\n",
    "pos_list = []\n",
    "for i in range(4):\n",
    "    pos_list.append((i+2, 0))\n",
    "for i in range(4):\n",
    "    pos_list.append((i+2, dimensions[1]-1))\n",
    "\n",
    "manager.reset_map()\n",
    "units0 = []\n",
    "units1 = []\n",
    "if pos_pick == 0:\n",
    "    for i in range(4):\n",
    "        units0.append(manager.place_unit(pos_list[i], 0))\n",
    "    for i in range(4, 8):\n",
    "        units1.append(manager.place_unit(pos_list[i], 1))\n",
    "else:\n",
    "    for i in range(4):\n",
    "        units1.append(manager.place_unit(pos_list[i], 1))\n",
    "    for i in range(4, 8):\n",
    "        units0.append(manager.place_unit(pos_list[i], 0))\n",
    "        \n",
    "print(manager)"
   ]
  },
  {
   "cell_type": "code",
   "execution_count": 285,
   "id": "f792c0cc",
   "metadata": {},
   "outputs": [
    {
     "name": "stdout",
     "output_type": "stream",
     "text": [
      "[ ][ ][ ][ ][ ][ ][0]\n",
      "[1][ ][ ][ ][ ][ ][ ]\n",
      "[1][ ][ ][0][ ][ ]\u001b[94m[ ]\u001b[0m\n",
      "[1][ ][ ][0][ ]\u001b[94m[ ]\u001b[0m\u001b[94m[ ]\u001b[0m\n",
      "[1][ ][ ][0]\u001b[94m[ ]\u001b[0m\u001b[94m[ ]\u001b[0m\u001b[94m[ ]\u001b[0m\n",
      "[1][ ][ ]\u001b[94m[ ]\u001b[0m\u001b[94m[ ]\u001b[0m\u001b[94m[ ]\u001b[0m\u001b[94m[ ]\u001b[0m\n",
      "[ ][ ][ ][ ]\u001b[94m[0]\u001b[0m\u001b[94m[ ]\u001b[0m\u001b[94m[ ]\u001b[0m\n",
      "\n",
      "[ ][ ][ ][ ][ ][ ][0]\n",
      "[ ][ ][ ][ ][ ][ ][ ]\n",
      "\u001b[94m[ ]\u001b[0m[ ][1][0][ ][ ][ ]\n",
      "\u001b[94m[ ]\u001b[0m\u001b[94m[1]\u001b[0m[1][0][ ][ ][ ]\n",
      "\u001b[94m[ ]\u001b[0m\u001b[94m[ ]\u001b[0m[1][0][ ][ ][ ]\n",
      "\u001b[94m[ ]\u001b[0m\u001b[94m[ ]\u001b[0m[1][ ][ ][ ][ ]\n",
      "\u001b[94m[ ]\u001b[0m\u001b[94m[ ]\u001b[0m\u001b[94m[ ]\u001b[0m[ ][0][ ][ ]\n",
      "\n",
      "[ ][ ][ ][ ][ ][ ][0]\n",
      "[ ][ ][ ][ ][ ][ ][ ]\n",
      "[ ][ ][1][0][ ][ ][ ]\n",
      "[ ][1][1][0]\u001b[94m[ ]\u001b[0m[ ][ ]\n",
      "[ ][ ][1][0]\u001b[94m[ ]\u001b[0m\u001b[94m[ ]\u001b[0m[ ]\n",
      "[ ][ ][1]\u001b[94m[0]\u001b[0m\u001b[94m[ ]\u001b[0m\u001b[94m[ ]\u001b[0m\u001b[94m[ ]\u001b[0m\n",
      "[ ]\u001b[94m[ ]\u001b[0m\u001b[94m[ ]\u001b[0m\u001b[94m[ ]\u001b[0m\u001b[94m[ ]\u001b[0m\u001b[94m[ ]\u001b[0m\u001b[94m[ ]\u001b[0m\n",
      "\n",
      "[ ]\u001b[94m[ ]\u001b[0m[ ][ ][ ][ ][0]\n",
      "\u001b[94m[ ]\u001b[0m\u001b[94m[ ]\u001b[0m\u001b[94m[ ]\u001b[0m[ ][ ][ ][ ]\n",
      "\u001b[94m[ ]\u001b[0m\u001b[94m[ ]\u001b[0m[1][0][ ][ ][ ]\n",
      "\u001b[94m[ ]\u001b[0m\u001b[94m[1]\u001b[0m[1][0][ ][ ][ ]\n",
      "\u001b[94m[ ]\u001b[0m\u001b[94m[ ]\u001b[0m[1][0][ ][ ][ ]\n",
      "\u001b[94m[ ]\u001b[0m\u001b[94m[ ]\u001b[0m[1][0][ ][ ][ ]\n",
      "[ ]\u001b[94m[ ]\u001b[0m[ ][ ][ ][ ][ ]\n",
      "\n",
      "[ ][ ][ ][ ][ ][ ][0]\n",
      "[ ][ ][ ][ ][ ][ ][ ]\n",
      "[ ][ ][ ][0][ ][ ][ ]\n",
      "[ ][1][ ][0]\u001b[94m[ ]\u001b[0m[ ][ ]\n",
      "[ ][ ][ ][0]\u001b[94m[ ]\u001b[0m\u001b[94m[ ]\u001b[0m[ ]\n",
      "[ ][ ][ ]\u001b[94m[0]\u001b[0m\u001b[94m[ ]\u001b[0m\u001b[94m[ ]\u001b[0m\u001b[94m[ ]\u001b[0m\n",
      "[ ]\u001b[94m[ ]\u001b[0m\u001b[94m[ ]\u001b[0m\u001b[94m[ ]\u001b[0m\u001b[94m[ ]\u001b[0m\u001b[94m[ ]\u001b[0m[ ]\n",
      "\n",
      "[ ]\u001b[94m[ ]\u001b[0m[ ][ ][ ][ ][0]\n",
      "\u001b[94m[ ]\u001b[0m\u001b[94m[ ]\u001b[0m\u001b[94m[ ]\u001b[0m[ ][ ][ ][ ]\n",
      "\u001b[94m[ ]\u001b[0m\u001b[94m[ ]\u001b[0m\u001b[94m[ ]\u001b[0m[0][ ][ ][ ]\n",
      "\u001b[94m[ ]\u001b[0m\u001b[94m[ ]\u001b[0m\u001b[94m[1]\u001b[0m[ ][ ][ ][ ]\n",
      "\u001b[94m[ ]\u001b[0m\u001b[94m[ ]\u001b[0m\u001b[94m[ ]\u001b[0m[0][ ][ ][ ]\n",
      "\u001b[94m[ ]\u001b[0m\u001b[94m[ ]\u001b[0m\u001b[94m[ ]\u001b[0m[0][ ][ ][ ]\n",
      "[ ]\u001b[94m[ ]\u001b[0m[ ][ ][ ][ ][ ]\n",
      "\n",
      "[ ][ ][ ][ ][ ][ ][0]\n",
      "[ ][ ][ ][ ][ ][ ][ ]\n",
      "[ ][ ][ ][ ][ ][ ][ ]\n",
      "[ ][ ][ ][0]\u001b[94m[ ]\u001b[0m[ ][ ]\n",
      "[ ]\u001b[94m[ ]\u001b[0m[0]\u001b[94m[ ]\u001b[0m\u001b[94m[ ]\u001b[0m\u001b[94m[ ]\u001b[0m[ ]\n",
      "\u001b[94m[ ]\u001b[0m\u001b[94m[ ]\u001b[0m\u001b[94m[ ]\u001b[0m\u001b[94m[ ]\u001b[0m\u001b[94m[ ]\u001b[0m\u001b[94m[ ]\u001b[0m\u001b[94m[ ]\u001b[0m\n",
      "[ ]\u001b[94m[ ]\u001b[0m\u001b[94m[ ]\u001b[0m\u001b[94m[ ]\u001b[0m\u001b[94m[ ]\u001b[0m\u001b[94m[0]\u001b[0m[ ]\n",
      "\n"
     ]
    }
   ],
   "source": [
    "dimensions = (7,7)\n",
    "units_per_side = 5\n",
    "manager = map_manager(dimensions)\n",
    "\n",
    "# for i in range(games_run):\n",
    "#also resets map\n",
    "manager.setup_even(dimensions, units_per_side)\n",
    "\n",
    "while (manager.game_joever() == -1 and manager.turn_count < 8): #Turn Count limit may have to be modified\n",
    "    for unit in manager.Teams[manager.curr_team].live_units:\n",
    "        win_move = (0, 0)\n",
    "        if manager.curr_team == 0:\n",
    "            win_move = neat_ai(manager, unit, winner_net)\n",
    "        elif manager.curr_team == 1:\n",
    "            win_move = script_ai(manager, unit)\n",
    "        manager.move_unit(unit, win_move)\n",
    "    print(manager)\n",
    "    manager.Turn()"
   ]
  },
  {
   "cell_type": "code",
   "execution_count": 298,
   "id": "bc9783e0",
   "metadata": {},
   "outputs": [],
   "source": [
    "from importlib import reload\n",
    "reload(GameManager)\n",
    "reload(AI_modules)\n",
    "reload(Neat_AI)\n",
    "\n",
    "\n",
    "from GameManager import map_manager, Tile, Unit, Team\n",
    "from Neat_AI import eval_genomes, run, load_net\n",
    "from AI_modules import no_ai, rand_ai, script_ai, neat_ai"
   ]
  },
  {
   "cell_type": "code",
   "execution_count": 299,
   "id": "2c7dfc4e",
   "metadata": {},
   "outputs": [
    {
     "name": "stdout",
     "output_type": "stream",
     "text": [
      "\n",
      " ****** Running generation 0 ****** \n",
      "\n",
      "Population's average fitness: -3.55333 stdev: 1.06168\n",
      "Best fitness: 0.00000 - size: (2, 61) - species 1 - id 48\n",
      "This generation's best genome's winrate vs. script: 0.0\n",
      "Average adjusted fitness: 0.305\n",
      "Mean genetic distance 2.182, standard deviation 0.607\n",
      "Population of 150 members in 2 species:\n",
      "   ID   age  size  fitness  adj fit  stag\n",
      "  ====  ===  ====  =======  =======  ====\n",
      "     1    0    59      0.0    0.283     0\n",
      "     2    0    91     -1.0    0.327     0\n",
      "Total extinctions: 0\n",
      "Generation time: 45.723 sec\n",
      "\n",
      " ****** Running generation 1 ****** \n",
      "\n",
      "Population's average fitness: -3.26000 stdev: 1.29321\n",
      "Best fitness: 0.00000 - size: (2, 58) - species 2 - id 171\n",
      "This generation's best genome's winrate vs. script: 0.0\n",
      "Average adjusted fitness: 0.349\n",
      "Mean genetic distance 1.699, standard deviation 0.427\n",
      "Population of 150 members in 2 species:\n",
      "   ID   age  size  fitness  adj fit  stag\n",
      "  ====  ===  ====  =======  =======  ====\n",
      "     1    1    68      0.0    0.356     1\n",
      "     2    1    82      0.0    0.343     0\n",
      "Total extinctions: 0\n",
      "Generation time: 44.169 sec (44.946 average)\n",
      "\n",
      " ****** Running generation 2 ****** \n",
      "\n",
      "Population's average fitness: -3.17333 stdev: 1.27408\n",
      "Best fitness: 0.00000 - size: (2, 58) - species 2 - id 171\n",
      "This generation's best genome's winrate vs. script: 0.0\n",
      "Average adjusted fitness: 0.364\n",
      "Mean genetic distance 1.720, standard deviation 0.341\n",
      "Population of 150 members in 2 species:\n",
      "   ID   age  size  fitness  adj fit  stag\n",
      "  ====  ===  ====  =======  =======  ====\n",
      "     1    2    73      0.0    0.347     2\n",
      "     2    2    77      0.0    0.380     1\n",
      "Total extinctions: 0\n",
      "Generation time: 49.975 sec (46.622 average)\n",
      "\n",
      " ****** Running generation 3 ****** \n",
      "\n",
      "Population's average fitness: -2.68000 stdev: 1.40627\n",
      "Best fitness: 0.00000 - size: (2, 58) - species 2 - id 171\n",
      "This generation's best genome's winrate vs. script: 0.0\n",
      "Average adjusted fitness: 0.464\n",
      "Mean genetic distance 1.715, standard deviation 0.351\n",
      "Population of 150 members in 2 species:\n",
      "   ID   age  size  fitness  adj fit  stag\n",
      "  ====  ===  ====  =======  =======  ====\n",
      "     1    3    71      0.0    0.466     3\n",
      "     2    3    79      0.0    0.462     2\n",
      "Total extinctions: 0\n",
      "Generation time: 48.724 sec (47.148 average)\n",
      "\n",
      " ****** Running generation 4 ****** \n",
      "\n"
     ]
    },
    {
     "ename": "KeyboardInterrupt",
     "evalue": "",
     "output_type": "error",
     "traceback": [
      "\u001b[1;31m---------------------------------------------------------------------------\u001b[0m",
      "\u001b[1;31mKeyboardInterrupt\u001b[0m                         Traceback (most recent call last)",
      "Cell \u001b[1;32mIn[299], line 1\u001b[0m\n\u001b[1;32m----> 1\u001b[0m win_net, stats \u001b[38;5;241m=\u001b[39m \u001b[43mrun\u001b[49m\u001b[43m(\u001b[49m\u001b[43mconfig_path\u001b[49m\u001b[43m)\u001b[49m\n",
      "File \u001b[1;32mC:\\_Kevin\\UT-Stuff\\_Summer2023\\CS370\\kriek-cs370\\Neat_AI.py:100\u001b[0m, in \u001b[0;36mrun\u001b[1;34m(config_file)\u001b[0m\n\u001b[0;32m     96\u001b[0m \u001b[38;5;66;03m#can use restore_checkpoint to resume simulation\u001b[39;00m\n\u001b[0;32m     97\u001b[0m \n\u001b[0;32m     98\u001b[0m \u001b[38;5;66;03m# Run for up to *generations* generations.\u001b[39;00m\n\u001b[0;32m     99\u001b[0m generations \u001b[38;5;241m=\u001b[39m \u001b[38;5;241m100\u001b[39m\n\u001b[1;32m--> 100\u001b[0m winner \u001b[38;5;241m=\u001b[39m \u001b[43mp\u001b[49m\u001b[38;5;241;43m.\u001b[39;49m\u001b[43mrun\u001b[49m\u001b[43m(\u001b[49m\u001b[43meval_genomes\u001b[49m\u001b[43m,\u001b[49m\u001b[43m \u001b[49m\u001b[43mgenerations\u001b[49m\u001b[43m)\u001b[49m\n\u001b[0;32m    102\u001b[0m \u001b[38;5;66;03m# Display the winning genome.\u001b[39;00m\n\u001b[0;32m    103\u001b[0m \u001b[38;5;28mprint\u001b[39m(\u001b[38;5;124m'\u001b[39m\u001b[38;5;130;01m\\n\u001b[39;00m\u001b[38;5;124mBest genome:\u001b[39m\u001b[38;5;130;01m\\n\u001b[39;00m\u001b[38;5;132;01m{!s}\u001b[39;00m\u001b[38;5;124m'\u001b[39m\u001b[38;5;241m.\u001b[39mformat(winner))\n",
      "File \u001b[1;32m~\\anaconda3\\lib\\site-packages\\neat\\population.py:89\u001b[0m, in \u001b[0;36mPopulation.run\u001b[1;34m(self, fitness_function, n)\u001b[0m\n\u001b[0;32m     86\u001b[0m \u001b[38;5;28mself\u001b[39m\u001b[38;5;241m.\u001b[39mreporters\u001b[38;5;241m.\u001b[39mstart_generation(\u001b[38;5;28mself\u001b[39m\u001b[38;5;241m.\u001b[39mgeneration)\n\u001b[0;32m     88\u001b[0m \u001b[38;5;66;03m# Evaluate all genomes using the user-provided function.\u001b[39;00m\n\u001b[1;32m---> 89\u001b[0m \u001b[43mfitness_function\u001b[49m\u001b[43m(\u001b[49m\u001b[38;5;28;43mlist\u001b[39;49m\u001b[43m(\u001b[49m\u001b[43miteritems\u001b[49m\u001b[43m(\u001b[49m\u001b[38;5;28;43mself\u001b[39;49m\u001b[38;5;241;43m.\u001b[39;49m\u001b[43mpopulation\u001b[49m\u001b[43m)\u001b[49m\u001b[43m)\u001b[49m\u001b[43m,\u001b[49m\u001b[43m \u001b[49m\u001b[38;5;28;43mself\u001b[39;49m\u001b[38;5;241;43m.\u001b[39;49m\u001b[43mconfig\u001b[49m\u001b[43m)\u001b[49m\n\u001b[0;32m     91\u001b[0m \u001b[38;5;66;03m# Gather and report statistics.\u001b[39;00m\n\u001b[0;32m     92\u001b[0m best \u001b[38;5;241m=\u001b[39m \u001b[38;5;28;01mNone\u001b[39;00m\n",
      "File \u001b[1;32mC:\\_Kevin\\UT-Stuff\\_Summer2023\\CS370\\kriek-cs370\\Neat_AI.py:55\u001b[0m, in \u001b[0;36meval_genomes\u001b[1;34m(genomes, config)\u001b[0m\n\u001b[0;32m     53\u001b[0m         win_move \u001b[38;5;241m=\u001b[39m neat_ai(manager, unit, my_net)\n\u001b[0;32m     54\u001b[0m     \u001b[38;5;28;01melif\u001b[39;00m manager\u001b[38;5;241m.\u001b[39mcurr_team \u001b[38;5;241m==\u001b[39m \u001b[38;5;241m1\u001b[39m:\n\u001b[1;32m---> 55\u001b[0m         win_move \u001b[38;5;241m=\u001b[39m \u001b[43mscript_ai\u001b[49m\u001b[43m(\u001b[49m\u001b[43mmanager\u001b[49m\u001b[43m,\u001b[49m\u001b[43m \u001b[49m\u001b[43munit\u001b[49m\u001b[43m)\u001b[49m\n\u001b[0;32m     56\u001b[0m     manager\u001b[38;5;241m.\u001b[39mmove_unit(unit, win_move)\n\u001b[0;32m     57\u001b[0m \u001b[38;5;66;03m#print(manager)\u001b[39;00m\n",
      "File \u001b[1;32mC:\\_Kevin\\UT-Stuff\\_Summer2023\\CS370\\kriek-cs370\\AI_modules.py:125\u001b[0m, in \u001b[0;36mscript_ai\u001b[1;34m(map_manager, unit)\u001b[0m\n\u001b[0;32m    123\u001b[0m         \u001b[38;5;28;01mcontinue\u001b[39;00m\n\u001b[0;32m    124\u001b[0m     \u001b[38;5;66;03m#Bonus weight for staying near friends\u001b[39;00m\n\u001b[1;32m--> 125\u001b[0m     weight \u001b[38;5;241m+\u001b[39m\u001b[38;5;241m=\u001b[39m \u001b[38;5;241;43m1\u001b[39;49m\u001b[43m \u001b[49m\u001b[38;5;241;43m/\u001b[39;49m\u001b[43m \u001b[49m\u001b[43m(\u001b[49m\u001b[43mmath\u001b[49m\u001b[38;5;241;43m.\u001b[39;49m\u001b[43mdist\u001b[49m\u001b[43m(\u001b[49m\u001b[43mmy_unit\u001b[49m\u001b[38;5;241;43m.\u001b[39;49m\u001b[43mpos\u001b[49m\u001b[43m,\u001b[49m\u001b[43m \u001b[49m\u001b[43munit\u001b[49m\u001b[38;5;241;43m.\u001b[39;49m\u001b[43mpos\u001b[49m\u001b[43m)\u001b[49m\u001b[43m \u001b[49m\u001b[38;5;241;43m+\u001b[39;49m\u001b[43m \u001b[49m\u001b[38;5;241;43m1\u001b[39;49m\u001b[43m)\u001b[49m\n\u001b[0;32m    128\u001b[0m \u001b[38;5;28;01mif\u001b[39;00m (move\u001b[38;5;241m.\u001b[39mis_attack):\n\u001b[0;32m    129\u001b[0m     map_manager\u001b[38;5;241m.\u001b[39mreset_temp_hp() \n",
      "\u001b[1;31mKeyboardInterrupt\u001b[0m: "
     ]
    }
   ],
   "source": [
    "win_net, stats = run(config_path)"
   ]
  },
  {
   "cell_type": "code",
   "execution_count": 16,
   "id": "79a47a57",
   "metadata": {},
   "outputs": [],
   "source": [
    "win_net1 = saved_net"
   ]
  },
  {
   "cell_type": "code",
   "execution_count": 16,
   "id": "ebd9c881",
   "metadata": {},
   "outputs": [],
   "source": [
    "#win_net2 = saved_net"
   ]
  },
  {
   "cell_type": "code",
   "execution_count": 267,
   "id": "43424121",
   "metadata": {},
   "outputs": [
    {
     "name": "stdout",
     "output_type": "stream",
     "text": [
      "Mean genetic distance 1.323, standard deviation 0.442\n"
     ]
    }
   ],
   "source": [
    "config = neat.Config(neat.DefaultGenome, neat.DefaultReproduction,\n",
    "                     neat.DefaultSpeciesSet, neat.DefaultStagnation,\n",
    "                     config_path)\n",
    "\n",
    "p = neat.checkpoint.Checkpointer.restore_checkpoint(\"./checkpoints/Global-Position-Eval-Func_vsScript_difference/neat-checkpoint-29\")\n",
    "winner = p.run(eval_genomes, 1)\n",
    "winner_net = neat.nn.FeedForwardNetwork.create(winner, config)"
   ]
  },
  {
   "cell_type": "code",
   "execution_count": 172,
   "id": "0b6efe6b",
   "metadata": {},
   "outputs": [
    {
     "name": "stdout",
     "output_type": "stream",
     "text": [
      "<neat.nn.feed_forward.FeedForwardNetwork object at 0x0000026697FCDAC0>\n"
     ]
    }
   ],
   "source": [
    "net = load_net(\"./best/Relative-Position-Eval-Func-config\", \"./best/Relative-Position-Eval-Func-genome\")\n",
    "print(net)"
   ]
  }
 ],
 "metadata": {
  "kernelspec": {
   "display_name": "Python 3 (ipykernel)",
   "language": "python",
   "name": "python3"
  },
  "language_info": {
   "codemirror_mode": {
    "name": "ipython",
    "version": 3
   },
   "file_extension": ".py",
   "mimetype": "text/x-python",
   "name": "python",
   "nbconvert_exporter": "python",
   "pygments_lexer": "ipython3",
   "version": "3.8.17"
  }
 },
 "nbformat": 4,
 "nbformat_minor": 5
}
