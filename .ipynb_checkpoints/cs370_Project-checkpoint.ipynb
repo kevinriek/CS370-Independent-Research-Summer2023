{
 "cells": [
  {
   "cell_type": "code",
   "execution_count": 1,
   "id": "ad633466",
   "metadata": {},
   "outputs": [],
   "source": [
    "import numpy as np\n",
    "import math \n",
    "import queue\n",
    "import os\n",
    "import neat\n",
    "import visualize\n",
    "import random\n",
    "import matplotlib.pyplot as plt\n",
    "import pickle\n",
    "\n",
    "import GameManager\n",
    "from GameManager import map_manager, Tile, Unit, Team\n",
    "\n",
    "import Neat_AI\n",
    "from Neat_AI import eval_genomes, run\n",
    "\n",
    "import AI_modules\n",
    "from AI_modules import no_ai, rand_ai, script_ai, neat_ai"
   ]
  },
  {
   "cell_type": "code",
   "execution_count": 2,
   "id": "aa70ca01",
   "metadata": {},
   "outputs": [],
   "source": [
    "local_dir = os.path.abspath('')\n",
    "config_path = os.path.join(local_dir, 'config-feedforward')"
   ]
  },
  {
   "cell_type": "code",
   "execution_count": 3,
   "id": "e724594e",
   "metadata": {},
   "outputs": [
    {
     "name": "stdout",
     "output_type": "stream",
     "text": [
      "[ ][ ][ ][ ][ ][ ][ ][ ]\n",
      "[ ][ ][ ][ ][ ][ ][ ][ ]\n",
      "[0][ ][ ][ ][ ][ ][ ][1]\n",
      "[0][ ][ ][ ][ ][ ][ ][1]\n",
      "[0][ ][ ][ ][ ][ ][ ][1]\n",
      "[0][ ][ ][ ][ ][ ][ ][1]\n",
      "[ ][ ][ ][ ][ ][ ][ ][ ]\n",
      "[ ][ ][ ][ ][ ][ ][ ][ ]\n",
      "\n"
     ]
    }
   ],
   "source": [
    "dimensions = (8,8)\n",
    "manager = map_manager(dimensions)\n",
    "\n",
    "pos_pick = random.randint(0, 1)\n",
    "pos_list = []\n",
    "for i in range(4):\n",
    "    pos_list.append((i+2, 0))\n",
    "for i in range(4):\n",
    "    pos_list.append((i+2, dimensions[1]-1))\n",
    "\n",
    "manager.reset_map()\n",
    "units0 = []\n",
    "units1 = []\n",
    "if pos_pick == 0:\n",
    "    for i in range(4):\n",
    "        units0.append(manager.place_unit(pos_list[i], 0))\n",
    "    for i in range(4, 8):\n",
    "        units1.append(manager.place_unit(pos_list[i], 1))\n",
    "else:\n",
    "    for i in range(4):\n",
    "        units1.append(manager.place_unit(pos_list[i], 1))\n",
    "    for i in range(4, 8):\n",
    "        units0.append(manager.place_unit(pos_list[i], 0))\n",
    "        \n",
    "print(manager)"
   ]
  },
  {
   "cell_type": "code",
   "execution_count": 146,
   "id": "f792c0cc",
   "metadata": {},
   "outputs": [
    {
     "name": "stdout",
     "output_type": "stream",
     "text": [
      "[ ][ ][ ][ ][ ][1][ ]\n",
      "[ ][ ][ ][ ][ ][ ][ ]\n",
      "[ ][0][0][ ][ ][ ][1]\n",
      "[ ]\u001b[94m[ ]\u001b[0m[ ][ ][ ][1][ ]\n",
      "\u001b[94m[ ]\u001b[0m\u001b[94m[ ]\u001b[0m\u001b[94m[ ]\u001b[0m[ ][ ][ ][ ]\n",
      "\u001b[94m[ ]\u001b[0m\u001b[94m[ ]\u001b[0m\u001b[94m[ ]\u001b[0m\u001b[94m[0]\u001b[0m[ ][ ][1]\n",
      "[0]\u001b[94m[ ]\u001b[0m[0][ ][ ][1][ ]\n",
      "\n",
      "[ ][ ][ ][ ][ ][ ][ ]\n",
      "[ ][ ][ ][ ][ ][ ][ ]\n",
      "[ ][0][0][ ][1][ ][ ]\n",
      "[ ][ ][ ][ ][ ]\u001b[94m[ ]\u001b[0m[ ]\n",
      "[ ][ ][ ][ ]\u001b[94m[ ]\u001b[0m\u001b[94m[ ]\u001b[0m[1]\n",
      "[ ][ ][ ][0][1]\u001b[94m[ ]\u001b[0m\u001b[94m[ ]\u001b[0m\n",
      "[0][ ][0]\u001b[94m[1]\u001b[0m\u001b[94m[ ]\u001b[0m\u001b[94m[ ]\u001b[0m[1]\n",
      "\n",
      "[ ][ ][ ][ ][ ][ ][ ]\n",
      "[ ][ ][ ][ ][ ][ ][ ]\n",
      "[ ][ ][ ]\u001b[94m[ ]\u001b[0m[1][ ][ ]\n",
      "[ ][ ]\u001b[94m[ ]\u001b[0m\u001b[94m[ ]\u001b[0m\u001b[94m[ ]\u001b[0m[ ][ ]\n",
      "[ ]\u001b[94m[ ]\u001b[0m\u001b[94m[ ]\u001b[0m\u001b[94m[ ]\u001b[0m\u001b[94m[ ]\u001b[0m\u001b[94m[ ]\u001b[0m[1]\n",
      "[ ][0][0]\u001b[94m[0]\u001b[0m[1][ ][ ]\n",
      "[ ][0][0][1][ ][ ][1]\n",
      "\n",
      "[ ][ ][ ][ ][ ][ ][ ]\n",
      "[ ][ ][ ][ ][ ][ ][ ]\n",
      "[ ][ ][ ][ ][ ][ ][ ]\n",
      "[ ][ ][ ][ ][ ][ ][ ]\n",
      "[ ][ ][ ][1][ ][ ][ ]\n",
      "[ ][0][0][0][1][ ][ ]\n",
      "[ ][0][ ]\u001b[94m[1]\u001b[0m\u001b[94m[ ]\u001b[0m[1][1]\n",
      "\n",
      "[ ][ ][ ][ ][ ][ ][ ]\n",
      "[ ][ ][ ][ ][ ][ ][ ]\n",
      "[ ][ ][ ][ ][ ][ ][ ]\n",
      "[ ][ ][ ][ ][ ][ ][ ]\n",
      "[ ]\u001b[94m[ ]\u001b[0m[0][1][ ][ ][ ]\n",
      "\u001b[94m[ ]\u001b[0m\u001b[94m[ ]\u001b[0m\u001b[94m[ ]\u001b[0m\u001b[94m[ ]\u001b[0m[1][ ][ ]\n",
      "[ ][0][0]\u001b[94m[ ]\u001b[0m\u001b[94m[0]\u001b[0m[1][1]\n",
      "\n",
      "[ ][ ][ ][ ][ ][ ][ ]\n",
      "[ ][ ][ ][ ][ ][ ][ ]\n",
      "[ ][ ][ ][ ][ ][ ][ ]\n",
      "[ ][ ][ ][ ][ ][ ]\u001b[94m[ ]\u001b[0m\n",
      "[ ][ ][0][ ][ ]\u001b[94m[ ]\u001b[0m\u001b[94m[ ]\u001b[0m\n",
      "[ ][ ][1][ ]\u001b[94m[1]\u001b[0m\u001b[94m[ ]\u001b[0m\u001b[94m[ ]\u001b[0m\n",
      "[ ][0][ ][1][ ][1]\u001b[94m[ ]\u001b[0m\n",
      "\n",
      "[ ][ ][ ][ ][ ][ ][ ]\n",
      "[ ][ ][ ][ ][ ][ ][ ]\n",
      "[ ][ ][ ][ ][ ][ ][ ]\n",
      "[ ]\u001b[94m[ ]\u001b[0m[ ][ ][ ][ ][ ]\n",
      "\u001b[94m[ ]\u001b[0m\u001b[94m[ ]\u001b[0m\u001b[94m[ ]\u001b[0m[ ][ ][ ][ ]\n",
      "\u001b[94m[ ]\u001b[0m\u001b[94m[ ]\u001b[0m[ ][0][1][ ][ ]\n",
      "\u001b[94m[ ]\u001b[0m\u001b[94m[ ]\u001b[0m\u001b[94m[0]\u001b[0m\u001b[94m[ ]\u001b[0m\u001b[94m[ ]\u001b[0m[1][ ]\n",
      "\n",
      "[ ][ ][ ][ ][ ][ ][ ]\n",
      "[ ][ ][ ][ ][ ][ ][ ]\n",
      "[ ][ ][ ][ ]\u001b[94m[ ]\u001b[0m[ ][ ]\n",
      "[ ][ ][ ]\u001b[94m[ ]\u001b[0m\u001b[94m[ ]\u001b[0m\u001b[94m[ ]\u001b[0m[ ]\n",
      "[ ][ ]\u001b[94m[ ]\u001b[0m\u001b[94m[ ]\u001b[0m\u001b[94m[ ]\u001b[0m\u001b[94m[ ]\u001b[0m\u001b[94m[ ]\u001b[0m\n",
      "[ ][ ][ ][0]\u001b[94m[1]\u001b[0m\u001b[94m[ ]\u001b[0m\u001b[94m[ ]\u001b[0m\n",
      "[ ][ ][0][1]\u001b[94m[ ]\u001b[0m\u001b[94m[ ]\u001b[0m\u001b[94m[ ]\u001b[0m\n",
      "\n",
      "[ ][ ][ ][ ][ ][ ][ ]\n",
      "[ ][ ][ ][ ][ ][ ][ ]\n",
      "[ ][ ][ ][ ][ ][ ][ ]\n",
      "[ ][ ]\u001b[94m[ ]\u001b[0m[ ][ ][ ][ ]\n",
      "[ ]\u001b[94m[ ]\u001b[0m\u001b[94m[ ]\u001b[0m\u001b[94m[ ]\u001b[0m[ ][ ][ ]\n",
      "\u001b[94m[ ]\u001b[0m\u001b[94m[ ]\u001b[0m\u001b[94m[ ]\u001b[0m[0][1][ ][ ]\n",
      "\u001b[94m[ ]\u001b[0m\u001b[94m[ ]\u001b[0m\u001b[94m[ ]\u001b[0m\u001b[94m[ ]\u001b[0m\u001b[94m[0]\u001b[0m\u001b[94m[ ]\u001b[0m[ ]\n",
      "\n",
      "[ ][ ][ ][ ][ ][ ][ ]\n",
      "[ ][ ][ ][ ][ ][ ][ ]\n",
      "[ ][ ][ ][ ]\u001b[94m[ ]\u001b[0m[ ][ ]\n",
      "[ ][ ][ ]\u001b[94m[ ]\u001b[0m\u001b[94m[ ]\u001b[0m\u001b[94m[ ]\u001b[0m[ ]\n",
      "[ ][ ]\u001b[94m[ ]\u001b[0m\u001b[94m[ ]\u001b[0m\u001b[94m[ ]\u001b[0m\u001b[94m[ ]\u001b[0m\u001b[94m[ ]\u001b[0m\n",
      "[ ][ ][ ][ ]\u001b[94m[1]\u001b[0m\u001b[94m[ ]\u001b[0m\u001b[94m[ ]\u001b[0m\n",
      "[ ][ ][ ][ ][0]\u001b[94m[ ]\u001b[0m\u001b[94m[ ]\u001b[0m\n",
      "\n",
      "[ ][ ][ ][ ][ ][ ][ ]\n",
      "[ ][ ][ ][ ][ ][ ][ ]\n",
      "[ ][ ][ ][ ][ ][ ][ ]\n",
      "[ ][ ][ ][ ][ ][ ][ ]\n",
      "[ ][ ][ ]\u001b[94m[ ]\u001b[0m[ ]\u001b[94m[ ]\u001b[0m[ ]\n",
      "[ ][ ]\u001b[94m[ ]\u001b[0m\u001b[94m[ ]\u001b[0m[ ]\u001b[94m[ ]\u001b[0m\u001b[94m[ ]\u001b[0m\n",
      "[ ]\u001b[94m[ ]\u001b[0m\u001b[94m[ ]\u001b[0m\u001b[94m[ ]\u001b[0m\u001b[94m[0]\u001b[0m\u001b[94m[ ]\u001b[0m\u001b[94m[ ]\u001b[0m\n",
      "\n"
     ]
    }
   ],
   "source": [
    "dimensions = (7,7)\n",
    "units_per_side = 5\n",
    "manager = map_manager(dimensions)\n",
    "\n",
    "# for i in range(games_run):\n",
    "#also resets map\n",
    "manager.setup_rand(units_per_side)\n",
    "\n",
    "while (manager.game_joever() == -1 and manager.turn_count < 8): #Turn Count limit may have to be modified\n",
    "    for unit in manager.Teams[manager.curr_team].live_units:\n",
    "        win_move = (0, 0)\n",
    "        if manager.curr_team == 0:\n",
    "            win_move = neat_ai(manager, unit, win_net)\n",
    "        elif manager.curr_team == 1:\n",
    "            #win_move = script_ai(manager, unit)\\\n",
    "            win_move = neat_ai(manager, unit, win_net)\n",
    "        manager.move_unit(unit, win_move)\n",
    "    print(manager)\n",
    "    manager.Turn()"
   ]
  },
  {
   "cell_type": "code",
   "execution_count": null,
   "id": "54712e7c",
   "metadata": {},
   "outputs": [],
   "source": [
    "dimensions = (7,7)\n",
    "units_per_side = 5\n",
    "manager = map_manager(dimensions)\n",
    "\n",
    "# for i in range(games_run):\n",
    "#also resets map\n",
    "manager.setup_rand(units_per_side)\n",
    "script_performance(manager, 100, )"
   ]
  },
  {
   "cell_type": "code",
   "execution_count": 15,
   "id": "bc9783e0",
   "metadata": {},
   "outputs": [],
   "source": [
    "from importlib import reload\n",
    "reload(GameManager)\n",
    "reload(AI_modules)\n",
    "reload(Neat_AI)\n",
    "\n",
    "\n",
    "from GameManager import map_manager, Tile, Unit, Team\n",
    "from Neat_AI import eval_genomes, run, load_net\n",
    "from AI_modules import no_ai, rand_ai, script_ai, neat_ai"
   ]
  },
  {
   "cell_type": "code",
   "execution_count": 16,
   "id": "2c7dfc4e",
   "metadata": {},
   "outputs": [
    {
     "ename": "NameError",
     "evalue": "This name, Relative-Position-Eval-func, is already used. Delete the previous \"./best\" and \"./checkpoint\" files or pick a new run name.",
     "output_type": "error",
     "traceback": [
      "\u001b[1;31m---------------------------------------------------------------------------\u001b[0m",
      "\u001b[1;31mNameError\u001b[0m                                 Traceback (most recent call last)",
      "Cell \u001b[1;32mIn[16], line 1\u001b[0m\n\u001b[1;32m----> 1\u001b[0m win_net, stats \u001b[38;5;241m=\u001b[39m \u001b[43mrun\u001b[49m\u001b[43m(\u001b[49m\u001b[43mconfig_path\u001b[49m\u001b[43m,\u001b[49m\u001b[43m \u001b[49m\u001b[38;5;124;43m\"\u001b[39;49m\u001b[38;5;124;43mRelative Position Eval func\u001b[39;49m\u001b[38;5;124;43m\"\u001b[39;49m\u001b[43m)\u001b[49m\n",
      "File \u001b[1;32mC:\\_Kevin\\UT-Stuff\\_Summer2023\\CS370\\kriek-cs370\\Neat_AI.py:72\u001b[0m, in \u001b[0;36mrun\u001b[1;34m(config_file, run_name)\u001b[0m\n\u001b[0;32m     70\u001b[0m run_name \u001b[38;5;241m=\u001b[39m run_name\u001b[38;5;241m.\u001b[39mreplace(\u001b[38;5;124m'\u001b[39m\u001b[38;5;124m \u001b[39m\u001b[38;5;124m'\u001b[39m, \u001b[38;5;124m'\u001b[39m\u001b[38;5;124m-\u001b[39m\u001b[38;5;124m'\u001b[39m)\n\u001b[0;32m     71\u001b[0m \u001b[38;5;28;01mif\u001b[39;00m os\u001b[38;5;241m.\u001b[39mpath\u001b[38;5;241m.\u001b[39mexists(\u001b[38;5;124m'\u001b[39m\u001b[38;5;124m./best/\u001b[39m\u001b[38;5;132;01m{}\u001b[39;00m\u001b[38;5;124m-genome\u001b[39m\u001b[38;5;124m'\u001b[39m\u001b[38;5;241m.\u001b[39mformat(run_name)):\n\u001b[1;32m---> 72\u001b[0m     \u001b[38;5;28mprint\u001b[39m(\u001b[38;5;124m\"\u001b[39m\u001b[38;5;124mThis name is already used. Delete the previous files or pick a new run name.\u001b[39m\u001b[38;5;124m\"\u001b[39m)\n\u001b[0;32m     73\u001b[0m     \u001b[38;5;28;01mraise\u001b[39;00m\n\u001b[0;32m     75\u001b[0m \u001b[38;5;66;03m# Load configuration.\u001b[39;00m\n",
      "\u001b[1;31mNameError\u001b[0m: This name, Relative-Position-Eval-func, is already used. Delete the previous \"./best\" and \"./checkpoint\" files or pick a new run name."
     ]
    }
   ],
   "source": [
    "win_net, stats = run(config_path, \"Global Move Eval)"
   ]
  },
  {
   "cell_type": "code",
   "execution_count": 8,
   "id": "79a47a57",
   "metadata": {},
   "outputs": [
    {
     "ename": "NameError",
     "evalue": "name 'win_net' is not defined",
     "output_type": "error",
     "traceback": [
      "\u001b[1;31m---------------------------------------------------------------------------\u001b[0m",
      "\u001b[1;31mNameError\u001b[0m                                 Traceback (most recent call last)",
      "Cell \u001b[1;32mIn[8], line 1\u001b[0m\n\u001b[1;32m----> 1\u001b[0m win_net1 \u001b[38;5;241m=\u001b[39m \u001b[43mwin_net\u001b[49m\n\u001b[0;32m      2\u001b[0m stats1 \u001b[38;5;241m=\u001b[39m stats\n",
      "\u001b[1;31mNameError\u001b[0m: name 'win_net' is not defined"
     ]
    }
   ],
   "source": [
    "win_net1 = win_net\n",
    "stats1 = stats"
   ]
  },
  {
   "cell_type": "code",
   "execution_count": 267,
   "id": "d60ba22a",
   "metadata": {},
   "outputs": [
    {
     "name": "stdout",
     "output_type": "stream",
     "text": [
      "Mean genetic distance 1.323, standard deviation 0.442\n"
     ]
    }
   ],
   "source": [
    "config = neat.Config(neat.DefaultGenome, neat.DefaultReproduction,\n",
    "                     neat.DefaultSpeciesSet, neat.DefaultStagnation,\n",
    "                     config_path)\n",
    "\n",
    "p = neat.checkpoint.Checkpointer.restore_checkpoint(\"./checkpoints/Global-Position-Eval-Func_vsScript_difference/neat-checkpoint-29\")\n",
    "winner = p.run(eval_genomes, 1)\n",
    "winner_net = neat.nn.FeedForwardNetwork.create(winner, config)"
   ]
  },
  {
   "cell_type": "code",
   "execution_count": 172,
   "id": "c8bee9de",
   "metadata": {},
   "outputs": [
    {
     "name": "stdout",
     "output_type": "stream",
     "text": [
      "<neat.nn.feed_forward.FeedForwardNetwork object at 0x0000026697FCDAC0>\n"
     ]
    }
   ],
   "source": [
    "net = load_net(\"./best/Relative-Position-Eval-Func-config\", \"./best/Relative-Position-Eval-Func-genome\")\n",
    "print(net)"
   ]
  },
  {
   "cell_type": "code",
   "execution_count": 79,
   "id": "3e2a6cd4",
   "metadata": {},
   "outputs": [
    {
     "name": "stdout",
     "output_type": "stream",
     "text": [
      "[0][ ][ ][ ][ ][1][ ]\n",
      "[ ][ ][ ][ ][ ][ ][ ]\n",
      "[0][ ][ ][ ][ ][ ][1]\n",
      "[ ][0][ ][ ][ ][ ][1]\n",
      "[0][ ][ ][ ][ ][1][ ]\n",
      "[ ][ ][ ][ ][ ][ ][ ]\n",
      "[0][ ][ ][ ][ ][ ][1]\n",
      "\n"
     ]
    }
   ],
   "source": [
    "dimensions = (7,7)\n",
    "units_per_side = 5\n",
    "manager = map_manager(dimensions)\n",
    "\n",
    "manager.setup_rand(5)\n",
    "print(manager)"
   ]
  },
  {
   "cell_type": "code",
   "execution_count": null,
   "id": "79770f5a",
   "metadata": {},
   "outputs": [],
   "source": []
  }
 ],
 "metadata": {
  "kernelspec": {
   "display_name": "Python 3 (ipykernel)",
   "language": "python",
   "name": "python3"
  },
  "language_info": {
   "codemirror_mode": {
    "name": "ipython",
    "version": 3
   },
   "file_extension": ".py",
   "mimetype": "text/x-python",
   "name": "python",
   "nbconvert_exporter": "python",
   "pygments_lexer": "ipython3",
   "version": "3.8.17"
  }
 },
 "nbformat": 4,
 "nbformat_minor": 5
}
