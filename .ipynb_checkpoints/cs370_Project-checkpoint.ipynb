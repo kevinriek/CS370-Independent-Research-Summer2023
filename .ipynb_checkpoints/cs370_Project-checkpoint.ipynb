{
 "cells": [
  {
   "cell_type": "code",
   "execution_count": 4,
   "id": "ad633466",
   "metadata": {},
   "outputs": [
    {
     "name": "stdout",
     "output_type": "stream",
     "text": [
      "The autoreload extension is already loaded. To reload it, use:\n",
      "  %reload_ext autoreload\n"
     ]
    }
   ],
   "source": [
    "import numpy as np\n",
    "import math \n",
    "import queue\n",
    "import os\n",
    "import neat\n",
    "import visualize\n",
    "import random\n",
    "import matplotlib.pyplot as plt\n",
    "import pickle\n",
    "\n",
    "%load_ext autoreload\n",
    "%autoreload 2\n",
    "\n",
    "import GameManager\n",
    "from GameManager import *\n",
    "\n",
    "import Neat_AI\n",
    "from Neat_AI import *\n",
    "\n",
    "import AI_modules\n",
    "from AI_modules import *\n",
    "\n",
    "import my_reporters\n",
    "from my_reporters import *"
   ]
  },
  {
   "cell_type": "code",
   "execution_count": 2,
   "id": "aa70ca01",
   "metadata": {},
   "outputs": [],
   "source": [
    "local_dir = os.path.abspath('')\n",
    "config_path = os.path.join(local_dir, 'config-feedforward')"
   ]
  },
  {
   "cell_type": "code",
   "execution_count": 25,
   "id": "f792c0cc",
   "metadata": {},
   "outputs": [
    {
     "name": "stdout",
     "output_type": "stream",
     "text": [
      "[ ][0][ ][ ][ ][ ][1][ ]\n",
      "[ ][ ][ ][ ][ ][ ][ ][ ]\n",
      "[ ][0][ ][ ][ ][ ][1][ ]\n",
      "[ ][ ][ ][ ][ ][ ][ ][ ]\n",
      "[ ][0][ ][ ][ ][ ][ ][1]\n",
      "[ ][0][ ][ ][ ][ ][ ][1]\n",
      "[ ][ ][ ][ ][ ][ ][ ][ ]\n",
      "[0][ ][ ][ ][ ][ ][1][ ]\n",
      "\n"
     ]
    }
   ],
   "source": [
    "dimensions = (8,8)\n",
    "units_per_side = 5\n",
    "manager = map_manager(dimensions)\n",
    "\n",
    "# for i in range(games_run):\n",
    "#also resets map\n",
    "manager.setup_layouts_rand(1, units_per_side)\n",
    "manager.apply_map_layout(0)\n",
    "print(manager)\n",
    "\n",
    "while (manager.game_joever() == -1 and manager.turn_count < 8): #Turn Count limit may have to be modified\n",
    "    for unit in manager.Teams[manager.curr_team].live_units:\n",
    "        win_move = (0, 0)\n",
    "        if manager.curr_team == 0:\n",
    "            win_move = neat_ai(manager, unit, best_networks[1])\n",
    "        elif manager.curr_team == 1:\n",
    "            win_move = script_ai(manager, unit)\n",
    "            #win_move = neat_ai(manager, unit, win_net)\n",
    "        manager.move_unit(unit, win_move)\n",
    "    #print(manager)\n",
    "    manager.Turn()"
   ]
  },
  {
   "cell_type": "code",
   "execution_count": 9,
   "id": "54712e7c",
   "metadata": {},
   "outputs": [
    {
     "ename": "NameError",
     "evalue": "name 'win_net' is not defined",
     "output_type": "error",
     "traceback": [
      "\u001b[1;31m---------------------------------------------------------------------------\u001b[0m",
      "\u001b[1;31mNameError\u001b[0m                                 Traceback (most recent call last)",
      "Cell \u001b[1;32mIn[9], line 9\u001b[0m\n\u001b[0;32m      5\u001b[0m \u001b[38;5;66;03m# for i in range(games_run):\u001b[39;00m\n\u001b[0;32m      6\u001b[0m config \u001b[38;5;241m=\u001b[39m neat\u001b[38;5;241m.\u001b[39mConfig(neat\u001b[38;5;241m.\u001b[39mDefaultGenome, neat\u001b[38;5;241m.\u001b[39mDefaultReproduction,\n\u001b[0;32m      7\u001b[0m                      neat\u001b[38;5;241m.\u001b[39mDefaultSpeciesSet, neat\u001b[38;5;241m.\u001b[39mDefaultStagnation,\n\u001b[0;32m      8\u001b[0m                      config_path)\n\u001b[1;32m----> 9\u001b[0m script_performance(manager, \u001b[43mwin_net\u001b[49m, config)\n",
      "\u001b[1;31mNameError\u001b[0m: name 'win_net' is not defined"
     ]
    }
   ],
   "source": [
    "dimensions = (8,8)\n",
    "units_per_side = 5\n",
    "manager = map_manager(dimensions)\n",
    "\n",
    "# for i in range(games_run):\n",
    "config = neat.Config(neat.DefaultGenome, neat.DefaultReproduction,\n",
    "                     neat.DefaultSpeciesSet, neat.DefaultStagnation,\n",
    "                     config_path)\n",
    "script_performance(manager, win_net, config)"
   ]
  },
  {
   "cell_type": "code",
   "execution_count": 6,
   "id": "3440ca49",
   "metadata": {},
   "outputs": [
    {
     "name": "stdout",
     "output_type": "stream",
     "text": [
      "[<neat.nn.feed_forward.FeedForwardNetwork object at 0x00000297A7E05940>, <neat.nn.feed_forward.FeedForwardNetwork object at 0x00000297A7A874F0>, <neat.nn.feed_forward.FeedForwardNetwork object at 0x00000297A7BA46A0>]\n"
     ]
    }
   ],
   "source": [
    "print(best_networks)\n",
    "best_networks_copy = copy.deepcopy(best_networks)"
   ]
  },
  {
   "cell_type": "code",
   "execution_count": null,
   "id": "2c7dfc4e",
   "metadata": {
    "scrolled": false
   },
   "outputs": [
    {
     "name": "stdout",
     "output_type": "stream",
     "text": [
      "\n",
      " ****** Running generation 0 ****** \n",
      "\n"
     ]
    }
   ],
   "source": [
    "random.seed(1648) #This is to set the random generated board starting positions\n",
    "best_networks = []\n",
    "win_net, win_genome, stats = Neat_AI.run(config_path, best_networks, \"Global Move Eval Ensemble\")"
   ]
  },
  {
   "cell_type": "code",
   "execution_count": 234,
   "id": "79a47a57",
   "metadata": {},
   "outputs": [],
   "source": [
    "win_net1 = win_net\n",
    "stats1 = stats"
   ]
  },
  {
   "cell_type": "code",
   "execution_count": 267,
   "id": "d60ba22a",
   "metadata": {},
   "outputs": [
    {
     "name": "stdout",
     "output_type": "stream",
     "text": [
      "Mean genetic distance 1.323, standard deviation 0.442\n"
     ]
    }
   ],
   "source": [
    "#Restore a checkpoint to resume Run\n",
    "config = neat.Config(neat.DefaultGenome, neat.DefaultReproduction,\n",
    "                     neat.DefaultSpeciesSet, neat.DefaultStagnation,\n",
    "                     config_path)\n",
    "a\n",
    "p = neat.checkpoint.Checkpointer.restore_checkpoint(\"./checkpoints/Global-Position-Eval-Func_vsScript_difference/neat-checkpoint-29\")\n",
    "winner = p.run(eval_genomes, 1)\n",
    "winner_net = neat.nn.FeedForwardNetwork.create(winner, config)"
   ]
  },
  {
   "cell_type": "code",
   "execution_count": 172,
   "id": "c8bee9de",
   "metadata": {},
   "outputs": [
    {
     "name": "stdout",
     "output_type": "stream",
     "text": [
      "<neat.nn.feed_forward.FeedForwardNetwork object at 0x0000026697FCDAC0>\n"
     ]
    }
   ],
   "source": [
    "#Restoring a best network for testing\n",
    "net = load_net(\"./best/Relative-Position-Eval-Func-config\", \"./best/Relative-Position-Eval-Func-genome\")\n",
    "print(net)"
   ]
  },
  {
   "cell_type": "code",
   "execution_count": null,
   "id": "79770f5a",
   "metadata": {},
   "outputs": [],
   "source": []
  }
 ],
 "metadata": {
  "kernelspec": {
   "display_name": "Python 3 (ipykernel)",
   "language": "python",
   "name": "python3"
  },
  "language_info": {
   "codemirror_mode": {
    "name": "ipython",
    "version": 3
   },
   "file_extension": ".py",
   "mimetype": "text/x-python",
   "name": "python",
   "nbconvert_exporter": "python",
   "pygments_lexer": "ipython3",
   "version": "3.8.17"
  }
 },
 "nbformat": 4,
 "nbformat_minor": 5
}
